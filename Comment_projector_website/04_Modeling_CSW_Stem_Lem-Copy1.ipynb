{
 "cells": [
  {
   "cell_type": "markdown",
   "metadata": {},
   "source": [
    "This notebook will take the each stem and lemmatized data set; countvectorize and tf-idf then run through logistic regression model."
   ]
  },
  {
   "cell_type": "code",
   "execution_count": 6,
   "metadata": {},
   "outputs": [],
   "source": [
    "# imports - basic\n",
    "import pandas as pd\n",
    "import numpy as np\n",
    "import matplotlib.pyplot as plt\n",
    "import seaborn as sns\n",
    "\n",
    "# imports modeling\n",
    "from sklearn.feature_extraction.text import CountVectorizer, TfidfVectorizer\n",
    "from sklearn.linear_model import LogisticRegression\n",
    "from sklearn.model_selection import train_test_split, cross_val_score\n",
    "from sklearn.metrics import confusion_matrix, ConfusionMatrixDisplay, accuracy_score, classification_report\n",
    "# import custom stop words\n",
    "from customstopwords import custom_stop_words_all"
   ]
  },
  {
   "cell_type": "code",
   "execution_count": 7,
   "metadata": {},
   "outputs": [],
   "source": [
    "# read in data files\n",
    "df_lem = pd.read_csv('CommentFiles/Comments_EDA_lem.csv')\n",
    "df_stem = pd.read_csv('CommentFiles/Comments_EDA_stem.csv')"
   ]
  },
  {
   "cell_type": "code",
   "execution_count": 8,
   "metadata": {},
   "outputs": [],
   "source": [
    "# convert subreddit into binary labels\n",
    "df_lem['subreddit'] = df_lem['subreddit'].map({'sportsbook': 1, 'dfsports': 0})\n",
    "# convert subreddit into binary labels\n",
    "df_stem['subreddit'] = df_stem['subreddit'].map({'sportsbook': 1, 'dfsports': 0})"
   ]
  },
  {
   "cell_type": "markdown",
   "metadata": {},
   "source": [
    "Hidden cells are functions that output scores and reports for label data sets and transformers."
   ]
  },
  {
   "cell_type": "code",
   "execution_count": 9,
   "metadata": {
    "jupyter": {
     "source_hidden": true
    }
   },
   "outputs": [],
   "source": [
    "# create function to transform and classify \n",
    "def transform_classify_cvec(df, name):\n",
    "\n",
    "    # set X , y\n",
    "    X = df['body']\n",
    "    y = df['subreddit']\n",
    "\n",
    "    #TTS\n",
    "    X_train, X_test, y_train, y_test = train_test_split(X,y)\n",
    "\n",
    "    # Instantiate CountVectorizer\n",
    "    cvec = CountVectorizer(stop_words=custom_stop_words_all)\n",
    "\n",
    "    # Fit and transform data sets\n",
    "    X_train_cvec = cvec.fit_transform(X_train.astype(str))\n",
    "    # transform test data\n",
    "    X_test_cvec = cvec.transform(X_test.astype(str))\n",
    "\n",
    "    # model using logistic regression\n",
    "    logreg = LogisticRegression()\n",
    "\n",
    "    # fit model to countvectorized data sets\n",
    "    logreg.fit(X_train_cvec, y_train)\n",
    "\n",
    "    # print scores and metrics\n",
    "    # score train and test\n",
    "    print(name)\n",
    "    print('')\n",
    "    print('Train Score    : ', logreg.score(X_train_cvec, y_train))\n",
    "    print('Test Score     : ', logreg.score(X_test_cvec, y_test))\n",
    "    print('Cross Val Score: ', cross_val_score(logreg, X_train_cvec, y_train, cv=5).mean())\n",
    "    print('Accuracy Score : ', accuracy_score(y_test, logreg.predict(X_test_cvec)))\n",
    "    print('')\n",
    "    # print and plot confusion matrix\n",
    "    cm = confusion_matrix(y_test, logreg.predict(X_test_cvec))\n",
    "    ConfusionMatrixDisplay(cm, display_labels=['sportsbook', 'dfsports']).plot();\n",
    "    print('')\n",
    "    # print classification report\n",
    "    print(classification_report(y_test, logreg.predict(X_test_cvec)))\n",
    "    pass"
   ]
  },
  {
   "cell_type": "code",
   "execution_count": 13,
   "metadata": {},
   "outputs": [],
   "source": [
    "# create function to transform and classify \n",
    "def transform_classify_tvec(df, name):\n",
    "\n",
    "    # set X , y\n",
    "    X = df['body']\n",
    "    y = df['subreddit']\n",
    "\n",
    "    #TTS\n",
    "    X_train, X_test, y_train, y_test = train_test_split(X,y)\n",
    "\n",
    "    # Instantiate CountVectorizer\n",
    "    tvec = TfidfVectorizer(stop_words=custom_stop_words_all)\n",
    "\n",
    "    # Fit and transform data sets\n",
    "    X_train_tvec = tvec.fit_transform(X_train.astype(str))\n",
    "    # transform test data\n",
    "    X_test_tvec = tvec.transform(X_test.astype(str))\n",
    "\n",
    "    # model using logistic regression\n",
    "    logreg = LogisticRegression()\n",
    "\n",
    "    # fit model to countvectorized data sets\n",
    "    logreg.fit(X_train_tvec, y_train)\n",
    "\n",
    "    # print scores and metrics\n",
    "    # score train and test\n",
    "    print(name)\n",
    "    print('')\n",
    "    print('Train Score    : ', logreg.score(X_train_tvec, y_train))\n",
    "    print('Test Score     : ', logreg.score(X_test_tvec, y_test))\n",
    "    print('Cross Val Score: ', cross_val_score(logreg, X_train_tvec, y_train, cv=5).mean())\n",
    "    print('Accuracy Score : ', accuracy_score(y_test, logreg.predict(X_test_tvec)))\n",
    "    print('')\n",
    "    # print and plot confusion matrix\n",
    "    cm = confusion_matrix(y_test, logreg.predict(X_test_tvec))\n",
    "    ConfusionMatrixDisplay(cm, display_labels=['sportsbook', 'dfsports']).plot();\n",
    "    print('')\n",
    "    # print classification report\n",
    "    print(classification_report(y_test, logreg.predict(X_test_tvec)))\n",
    "    pass"
   ]
  },
  {
   "cell_type": "code",
   "execution_count": 15,
   "metadata": {
    "collapsed": true,
    "jupyter": {
     "outputs_hidden": true
    }
   },
   "outputs": [
    {
     "name": "stdout",
     "output_type": "stream",
     "text": [
      "Lemmatized, TF-IDF\n",
      "\n",
      "Train Score    :  0.9253826530612245\n",
      "Test Score     :  0.8444869343530912\n",
      "Cross Val Score:  0.8273794288556765\n",
      "Accuracy Score :  0.8444869343530912\n",
      "\n",
      "\n",
      "              precision    recall  f1-score   support\n",
      "\n",
      "           0       0.85      0.83      0.84       787\n",
      "           1       0.84      0.85      0.85       782\n",
      "\n",
      "    accuracy                           0.84      1569\n",
      "   macro avg       0.84      0.84      0.84      1569\n",
      "weighted avg       0.84      0.84      0.84      1569\n",
      "\n"
     ]
    },
    {
     "data": {
      "image/png": "[encoded data removed]",
      "text/plain": [
       "<Figure size 432x288 with 2 Axes>"
      ]
     },
     "metadata": {
      "needs_background": "light"
     },
     "output_type": "display_data"
    }
   ],
   "source": [
    "transform_classify_tvec(df_lem, 'Lemmatized, TF-IDF')"
   ]
  },
  {
   "cell_type": "markdown",
   "metadata": {},
   "source": [
    "## Annotation:\n",
    "The TD-IDF tranformer did not return a better model.  Very similar scores to count vectorizer with logistic regression.  Going forward different estimators will be used and gridsearch to pick most effective parameters for these transformers."
   ]
  },
  {
   "cell_type": "code",
   "execution_count": 21,
   "metadata": {
    "collapsed": true,
    "jupyter": {
     "outputs_hidden": true
    }
   },
   "outputs": [
    {
     "name": "stdout",
     "output_type": "stream",
     "text": [
      "\n",
      "Train Score    :  0.9287840136054422\n",
      "Test Score     :  0.82855321861058\n",
      "Cross Val Score:  0.831844122368689\n",
      "Accuracy Score :  0.82855321861058\n",
      "\n",
      "\n",
      "              precision    recall  f1-score   support\n",
      "\n",
      "           0       0.85      0.80      0.82       792\n",
      "           1       0.81      0.86      0.83       777\n",
      "\n",
      "    accuracy                           0.83      1569\n",
      "   macro avg       0.83      0.83      0.83      1569\n",
      "weighted avg       0.83      0.83      0.83      1569\n",
      "\n"
     ]
    },
    {
     "data": {
      "image/png": "[encoded data removed]",
      "text/plain": [
       "<Figure size 432x288 with 2 Axes>"
      ]
     },
     "metadata": {
      "needs_background": "light"
     },
     "output_type": "display_data"
    }
   ],
   "source": [
    "# set X , y\n",
    "X = df_lem['body']\n",
    "y = df_lem['subreddit']\n",
    "\n",
    "#TTS\n",
    "X_train, X_test, y_train, y_test = train_test_split(X,y)\n",
    "\n",
    "# Instantiate CountVectorizer\n",
    "tvec = TfidfVectorizer(stop_words=custom_stop_words_all)\n",
    "\n",
    "# Fit and transform data sets\n",
    "X_train_tvec = tvec.fit_transform(X_train.astype(str))\n",
    "# transform test data\n",
    "X_test_tvec = tvec.transform(X_test.astype(str))\n",
    "\n",
    "# model using logistic regression\n",
    "logreg = LogisticRegression()\n",
    "\n",
    "# fit model to countvectorized data sets\n",
    "logreg.fit(X_train_tvec, y_train)\n",
    "\n",
    "# print scores and metrics\n",
    "# score train and test\n",
    "#print(name)\n",
    "print('')\n",
    "print('Train Score    : ', logreg.score(X_train_tvec, y_train))\n",
    "print('Test Score     : ', logreg.score(X_test_tvec, y_test))\n",
    "print('Cross Val Score: ', cross_val_score(logreg, X_train_tvec, y_train, cv=5).mean())\n",
    "print('Accuracy Score : ', accuracy_score(y_test, logreg.predict(X_test_tvec)))\n",
    "print('')\n",
    "# print and plot confusion matrix\n",
    "cm = confusion_matrix(y_test, logreg.predict(X_test_tvec))\n",
    "ConfusionMatrixDisplay(cm, display_labels=['sportsbook', 'dfsports']).plot();\n",
    "print('')\n",
    "# print classification report\n",
    "print(classification_report(y_test, logreg.predict(X_test_tvec)))"
   ]
  },
  {
   "cell_type": "code",
   "execution_count": 22,
   "metadata": {
    "jupyter": {
     "source_hidden": true
    }
   },
   "outputs": [],
   "source": [
    "preds = logreg.predict(X_test_tvec)"
   ]
  },
  {
   "cell_type": "code",
   "execution_count": 64,
   "metadata": {
    "collapsed": true,
    "jupyter": {
     "outputs_hidden": true,
     "source_hidden": true
    }
   },
   "outputs": [
    {
     "data": {
      "text/html": [
       "<div>\n",
       "<style scoped>\n",
       "    .dataframe tbody tr th:only-of-type {\n",
       "        vertical-align: middle;\n",
       "    }\n",
       "\n",
       "    .dataframe tbody tr th {\n",
       "        vertical-align: top;\n",
       "    }\n",
       "\n",
       "    .dataframe thead th {\n",
       "        text-align: right;\n",
       "    }\n",
       "</style>\n",
       "<table border=\"1\" class=\"dataframe\">\n",
       "  <thead>\n",
       "    <tr style=\"text-align: right;\">\n",
       "      <th></th>\n",
       "      <th>Prediction</th>\n",
       "    </tr>\n",
       "    <tr>\n",
       "      <th>body</th>\n",
       "      <th></th>\n",
       "    </tr>\n",
       "  </thead>\n",
       "  <tbody>\n",
       "    <tr>\n",
       "      <th>gt, nba, double, ups, are, much, higher, scoring, than, gpp, s, not, really, i, only, have, example, from, yesterday, and, today, because, i, m, not, diving, too, deep, into, this, but, here, tonight, s, 25, big, double, up, cash, line, 259, 00, tonight, s, 1, 20max, gpp, cash, line, 267, 25, yesterday, s, 25, big, double, up, cash, line, 247, 00, yesterday, s, 1, 20max, gpp, cash, line, 252, 50</th>\n",
       "      <td>0</td>\n",
       "    </tr>\n",
       "    <tr>\n",
       "      <th>i, feel, soooooooo, horrible, for, the, cheater, scumbag, known, a, jim, boehiem, not</th>\n",
       "      <td>1</td>\n",
       "    </tr>\n",
       "    <tr>\n",
       "      <th>i, only, had, 3, lineup, and, he, wa, on, all, of, them</th>\n",
       "      <td>0</td>\n",
       "    </tr>\n",
       "    <tr>\n",
       "      <th>took, the, under, at, the, half, in, the, fsu, and, the, usc, game</th>\n",
       "      <td>1</td>\n",
       "    </tr>\n",
       "    <tr>\n",
       "      <th>you, re, right, i, got, 191, good, call</th>\n",
       "      <td>1</td>\n",
       "    </tr>\n",
       "    <tr>\n",
       "      <th>...</th>\n",
       "      <td>...</td>\n",
       "    </tr>\n",
       "    <tr>\n",
       "      <th>did, your, winning, out, win, your, losings</th>\n",
       "      <td>0</td>\n",
       "    </tr>\n",
       "    <tr>\n",
       "      <th>seem, like, nice, guy, with, solid, projection, obscenely, overpriced, imho</th>\n",
       "      <td>0</td>\n",
       "    </tr>\n",
       "    <tr>\n",
       "      <th>is, he, any, relation, to, draymond, green</th>\n",
       "      <td>0</td>\n",
       "    </tr>\n",
       "    <tr>\n",
       "      <th>how, you, maximize, profit, don, t, fucking, hedge, if, it, s, not, letting, me, changing, money</th>\n",
       "      <td>1</td>\n",
       "    </tr>\n",
       "    <tr>\n",
       "      <th>awesome, glad, you, re, enjoying, it</th>\n",
       "      <td>0</td>\n",
       "    </tr>\n",
       "  </tbody>\n",
       "</table>\n",
       "<p>1569 rows × 1 columns</p>\n",
       "</div>"
      ],
      "text/plain": [
       "                                                    Prediction\n",
       "body                                                          \n",
       "gt, nba, double, ups, are, much, higher, scorin...           0\n",
       "i, feel, soooooooo, horrible, for, the, cheater...           1\n",
       "i, only, had, 3, lineup, and, he, wa, on, all, ...           0\n",
       "took, the, under, at, the, half, in, the, fsu, ...           1\n",
       "you, re, right, i, got, 191, good, call                      1\n",
       "...                                                        ...\n",
       "did, your, winning, out, win, your, losings                  0\n",
       "seem, like, nice, guy, with, solid, projection,...           0\n",
       "is, he, any, relation, to, draymond, green                   0\n",
       "how, you, maximize, profit, don, t, fucking, he...           1\n",
       "awesome, glad, you, re, enjoying, it                         0\n",
       "\n",
       "[1569 rows x 1 columns]"
      ]
     },
     "execution_count": 64,
     "metadata": {},
     "output_type": "execute_result"
    }
   ],
   "source": [
    "pd.DataFrame(columns=['Prediction'], index=X_test, data=preds)"
   ]
  },
  {
   "cell_type": "code",
   "execution_count": 105,
   "metadata": {},
   "outputs": [
    {
     "name": "stdin",
     "output_type": "stream",
     "text": [
      "Enter a comment:  stipe cuse\n"
     ]
    }
   ],
   "source": [
    "# get input from user\n",
    "user_input = input('Enter a comment: ')"
   ]
  },
  {
   "cell_type": "code",
   "execution_count": 106,
   "metadata": {},
   "outputs": [],
   "source": [
    "test_list = list(user_input.split(sep=' '))"
   ]
  },
  {
   "cell_type": "code",
   "execution_count": 107,
   "metadata": {},
   "outputs": [],
   "source": [
    "test_tvec = tvec.transform(test_list)"
   ]
  },
  {
   "cell_type": "code",
   "execution_count": 108,
   "metadata": {},
   "outputs": [],
   "source": [
    "str_mean = logreg.predict(test_tvec).mean()"
   ]
  },
  {
   "cell_type": "code",
   "execution_count": 109,
   "metadata": {},
   "outputs": [
    {
     "name": "stdout",
     "output_type": "stream",
     "text": [
      "The comment you enter is more likely to be found on the sportsbooks subreddit.\n"
     ]
    }
   ],
   "source": [
    "if str_mean >= .5:\n",
    "    print('The comment you enter is more likely to be found on the sportsbooks subreddit.')\n",
    "else:\n",
    "    print('The comment you enter is more likely to be found on the dfsports subreddit.')"
   ]
  },
  {
   "cell_type": "code",
   "execution_count": null,
   "metadata": {},
   "outputs": [],
   "source": [
    "# create function for this"
   ]
  }
 ],
 "metadata": {
  "kernelspec": {
   "display_name": "Python 3",
   "language": "python",
   "name": "python3"
  },
  "language_info": {
   "codemirror_mode": {
    "name": "ipython",
    "version": 3
   },
   "file_extension": ".py",
   "mimetype": "text/x-python",
   "name": "python",
   "nbconvert_exporter": "python",
   "pygments_lexer": "ipython3",
   "version": "3.8.5"
  }
 },
 "nbformat": 4,
 "nbformat_minor": 4
}
