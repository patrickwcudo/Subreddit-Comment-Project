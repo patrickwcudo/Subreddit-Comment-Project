{
 "cells": [
  {
   "cell_type": "markdown",
   "metadata": {},
   "source": [
    "Attempt at pickling best model from project 3."
   ]
  },
  {
   "cell_type": "code",
   "execution_count": 8,
   "metadata": {},
   "outputs": [],
   "source": [
    "# imports - basic\n",
    "import pandas as pd\n",
    "import numpy as np\n",
    "\n",
    "# imports modeling\n",
    "from sklearn.feature_extraction.text import TfidfVectorizer\n",
    "from sklearn.linear_model import LogisticRegression\n",
    "from sklearn.model_selection import train_test_split\n",
    "# import custom stop words\n",
    "from customstopwords import custom_stop_words_all\n",
    "# import pickle\n",
    "import pickle"
   ]
  },
  {
   "cell_type": "code",
   "execution_count": 2,
   "metadata": {},
   "outputs": [],
   "source": [
    "# control flow to fit model\n",
    "# read in data files\n",
    "df = pd.read_csv('CommentFiles/Comments_EDA_lem.csv')"
   ]
  },
  {
   "cell_type": "code",
   "execution_count": 3,
   "metadata": {},
   "outputs": [],
   "source": [
    "# convert subreddit into binary labels\n",
    "df['subreddit'] = df['subreddit'].map({'sportsbook': 1, 'dfsports': 0})"
   ]
  },
  {
   "cell_type": "code",
   "execution_count": 31,
   "metadata": {},
   "outputs": [
    {
     "data": {
      "text/plain": [
       "LogisticRegression()"
      ]
     },
     "execution_count": 31,
     "metadata": {},
     "output_type": "execute_result"
    }
   ],
   "source": [
    "# set X , y\n",
    "X = df['body']\n",
    "y = df['subreddit']\n",
    "\n",
    "# Instantiate CountVectorizer\n",
    "tvec = TfidfVectorizer(stop_words=custom_stop_words_all)\n",
    "\n",
    "# Fit and transform data sets\n",
    "X = tvec.fit_transform(X.astype(str))\n",
    "\n",
    "# model using logistic regression\n",
    "logreg = LogisticRegression()\n",
    "\n",
    "# fit model to countvectorized data sets\n",
    "logreg.fit(X, y)"
   ]
  },
  {
   "cell_type": "code",
   "execution_count": 32,
   "metadata": {},
   "outputs": [],
   "source": [
    "# .dump to save model above to file model.p\n",
    "pickle.dump(logreg, open('model.p', 'wb'))"
   ]
  },
  {
   "cell_type": "code",
   "execution_count": 40,
   "metadata": {},
   "outputs": [],
   "source": [
    "# try with tvec\n",
    "pickle.dump(tvec, open('tfidf.p', 'wb'))"
   ]
  },
  {
   "cell_type": "code",
   "execution_count": 41,
   "metadata": {},
   "outputs": [
    {
     "name": "stdout",
     "output_type": "stream",
     "text": [
      "Score: 0.92\n"
     ]
    }
   ],
   "source": [
    "# check work\n",
    "pickled_model = pickle.load(open('model.p', 'rb'))\n",
    "# score\n",
    "print(f'Score: {pickled_model.score(X,y):.2f}')"
   ]
  },
  {
   "cell_type": "code",
   "execution_count": 42,
   "metadata": {},
   "outputs": [],
   "source": [
    "# test tvec pickle\n",
    "pickled_tvec = pickle.load(open('tfidf.p', 'rb'))"
   ]
  },
  {
   "cell_type": "markdown",
   "metadata": {},
   "source": [
    "### make predictions"
   ]
  },
  {
   "cell_type": "code",
   "execution_count": 35,
   "metadata": {},
   "outputs": [
    {
     "name": "stdin",
     "output_type": "stream",
     "text": [
      "Enter a comment:  dfs lineup\n"
     ]
    }
   ],
   "source": [
    "# get input from user\n",
    "user_input = input('Enter a comment: ')"
   ]
  },
  {
   "cell_type": "code",
   "execution_count": 43,
   "metadata": {},
   "outputs": [],
   "source": [
    "test_list = list(user_input.split(sep=' '))"
   ]
  },
  {
   "cell_type": "code",
   "execution_count": 44,
   "metadata": {},
   "outputs": [],
   "source": [
    "test_tvec = pickled_tvec.transform(test_list)"
   ]
  },
  {
   "cell_type": "code",
   "execution_count": 45,
   "metadata": {},
   "outputs": [],
   "source": [
    "str_mean = pickled_model.predict(test_tvec).mean()"
   ]
  },
  {
   "cell_type": "code",
   "execution_count": 46,
   "metadata": {},
   "outputs": [
    {
     "name": "stdout",
     "output_type": "stream",
     "text": [
      "The comment you enter is more likely to be found on the dfsports subreddit.\n"
     ]
    }
   ],
   "source": [
    "if str_mean >= .5:\n",
    "    print('The comment you enter is more likely to be found on the sportsbooks subreddit.')\n",
    "else:\n",
    "    print('The comment you enter is more likely to be found on the dfsports subreddit.')"
   ]
  },
  {
   "cell_type": "markdown",
   "metadata": {},
   "source": [
    "# now try on web "
   ]
  },
  {
   "cell_type": "code",
   "execution_count": null,
   "metadata": {},
   "outputs": [],
   "source": []
  }
 ],
 "metadata": {
  "kernelspec": {
   "display_name": "Python 3",
   "language": "python",
   "name": "python3"
  },
  "language_info": {
   "codemirror_mode": {
    "name": "ipython",
    "version": 3
   },
   "file_extension": ".py",
   "mimetype": "text/x-python",
   "name": "python",
   "nbconvert_exporter": "python",
   "pygments_lexer": "ipython3",
   "version": "3.8.5"
  }
 },
 "nbformat": 4,
 "nbformat_minor": 4
}
