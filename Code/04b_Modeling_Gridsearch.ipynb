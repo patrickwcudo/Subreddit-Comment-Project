{
 "cells": [
  {
   "cell_type": "markdown",
   "metadata": {},
   "source": [
    "The purpose of this notebook is to use find best estimator and use gridsearch to find best parameters."
   ]
  },
  {
   "cell_type": "code",
   "execution_count": 1,
   "metadata": {},
   "outputs": [],
   "source": [
    "# imports\n",
    "# imports - basic\n",
    "import pandas as pd\n",
    "import numpy as np\n",
    "import matplotlib.pyplot as plt\n",
    "import seaborn as sns\n",
    "\n",
    "# imports modeling\n",
    "from sklearn.feature_extraction.text import CountVectorizer, TfidfVectorizer\n",
    "from sklearn.linear_model import LogisticRegression\n",
    "from sklearn.model_selection import train_test_split, cross_val_score, GridSearchCV\n",
    "from sklearn.metrics import confusion_matrix, ConfusionMatrixDisplay, accuracy_score\n",
    "from sklearn.pipeline import make_pipeline, Pipeline\n",
    "from sklearn.neighbors import KNeighborsClassifier\n",
    "from sklearn.svm import LinearSVC, SVC\n",
    "from sklearn.ensemble import RandomForestClassifier, AdaBoostClassifier, BaggingClassifier\n",
    "from sklearn.tree import DecisionTreeClassifier\n",
    "# import custom stop words\n",
    "from customstopwords import custom_stop_words_all\n",
    "# import sentiment analysis tool\n",
    "from nltk.sentiment.vader import SentimentIntensityAnalyzer"
   ]
  },
  {
   "cell_type": "markdown",
   "metadata": {},
   "source": [
    "In last modeling attempt best model was the stemmed countvectorized logistic regression.\n",
    "I will use that as a base to gridsearch best countvectorize parameters and determine best classifier."
   ]
  },
  {
   "cell_type": "code",
   "execution_count": 2,
   "metadata": {},
   "outputs": [],
   "source": [
    "# read in stemmed data\n",
    "df = pd.read_csv('../CommentFiles/Comments_EDA_stem.csv')"
   ]
  },
  {
   "cell_type": "code",
   "execution_count": 3,
   "metadata": {},
   "outputs": [],
   "source": [
    "# create classes for subreddit \n",
    "df['subreddit'] = df['subreddit'].map({'sportsbook': 1, 'dfsports': 0})"
   ]
  },
  {
   "cell_type": "code",
   "execution_count": 4,
   "metadata": {},
   "outputs": [],
   "source": [
    "# set X and y\n",
    "X = df['body']\n",
    "y = df['subreddit']"
   ]
  },
  {
   "cell_type": "code",
   "execution_count": 5,
   "metadata": {},
   "outputs": [],
   "source": [
    "# TTS\n",
    "X_train, X_test, y_train, y_test = train_test_split(X,y)"
   ]
  },
  {
   "cell_type": "code",
   "execution_count": 6,
   "metadata": {},
   "outputs": [],
   "source": [
    "# TF-IDF attempt\n",
    "cvec = CountVectorizer(stop_words=custom_stop_words_all)"
   ]
  },
  {
   "cell_type": "code",
   "execution_count": 7,
   "metadata": {},
   "outputs": [],
   "source": [
    "# fit and transform to tvec training data\n",
    "X_train_cvec = cvec.fit_transform(X_train.astype(str))"
   ]
  },
  {
   "cell_type": "code",
   "execution_count": 8,
   "metadata": {},
   "outputs": [],
   "source": [
    "# transform to tvec test data\n",
    "X_test_cvec = cvec.transform(X_test.astype(str))"
   ]
  },
  {
   "cell_type": "code",
   "execution_count": 9,
   "metadata": {},
   "outputs": [],
   "source": [
    "# Create function to create a dataframe of all accuracy scores for estimators\n",
    "# instaniate all models in use\n",
    "logreg = LogisticRegression()\n",
    "knn = KNeighborsClassifier()\n",
    "svc = SVC()\n",
    "forest = RandomForestClassifier()\n",
    "tree = DecisionTreeClassifier()\n",
    "abc = AdaBoostClassifier()\n",
    "bag = BaggingClassifier()"
   ]
  },
  {
   "cell_type": "code",
   "execution_count": 10,
   "metadata": {},
   "outputs": [],
   "source": [
    "# create list of estimators\n",
    "class_list = [logreg, knn, svc, forest, tree, abc, bag]"
   ]
  },
  {
   "cell_type": "code",
   "execution_count": 11,
   "metadata": {},
   "outputs": [],
   "source": [
    "# define function to create dataframe\n",
    "def modeling(X_train, X_test, y_train, y_test, class_list):\n",
    "    # create lists for scores \n",
    "    train_score = []\n",
    "    test_score = []\n",
    "    acc_score = []\n",
    "    # for each classifier fit and score\n",
    "    for classifier in class_list:\n",
    "        classifier.fit(X_train, y_train)\n",
    "        train_score.append(classifier.score(X_train, y_train))\n",
    "        test_score.append(classifier.score(X_test, y_test))\n",
    "        acc_score.append(accuracy_score(y_test, classifier.predict(X_test)))\n",
    "    # combine into dataframe\n",
    "    return pd.DataFrame(data=[train_score, test_score, acc_score],\n",
    "                 index=['train_score', 'test_score', 'acc_score'],\n",
    "                 columns=[str(c) for c in class_list]).T"
   ]
  },
  {
   "cell_type": "code",
   "execution_count": 14,
   "metadata": {},
   "outputs": [],
   "source": [
    "mod_df = modeling(X_train_cvec, X_test_cvec, y_train, y_test, class_list)"
   ]
  },
  {
   "cell_type": "code",
   "execution_count": 15,
   "metadata": {},
   "outputs": [
    {
     "data": {
      "text/html": [
       "<div>\n",
       "<style scoped>\n",
       "    .dataframe tbody tr th:only-of-type {\n",
       "        vertical-align: middle;\n",
       "    }\n",
       "\n",
       "    .dataframe tbody tr th {\n",
       "        vertical-align: top;\n",
       "    }\n",
       "\n",
       "    .dataframe thead th {\n",
       "        text-align: right;\n",
       "    }\n",
       "</style>\n",
       "<table border=\"1\" class=\"dataframe\">\n",
       "  <thead>\n",
       "    <tr style=\"text-align: right;\">\n",
       "      <th></th>\n",
       "      <th>train_score</th>\n",
       "      <th>test_score</th>\n",
       "      <th>acc_score</th>\n",
       "    </tr>\n",
       "  </thead>\n",
       "  <tbody>\n",
       "    <tr>\n",
       "      <th>LogisticRegression()</th>\n",
       "      <td>0.947066</td>\n",
       "      <td>0.827916</td>\n",
       "      <td>0.827916</td>\n",
       "    </tr>\n",
       "    <tr>\n",
       "      <th>KNeighborsClassifier()</th>\n",
       "      <td>0.785077</td>\n",
       "      <td>0.673040</td>\n",
       "      <td>0.673040</td>\n",
       "    </tr>\n",
       "    <tr>\n",
       "      <th>SVC()</th>\n",
       "      <td>0.894983</td>\n",
       "      <td>0.807521</td>\n",
       "      <td>0.807521</td>\n",
       "    </tr>\n",
       "    <tr>\n",
       "      <th>RandomForestClassifier()</th>\n",
       "      <td>0.981718</td>\n",
       "      <td>0.814532</td>\n",
       "      <td>0.814532</td>\n",
       "    </tr>\n",
       "    <tr>\n",
       "      <th>DecisionTreeClassifier()</th>\n",
       "      <td>0.981718</td>\n",
       "      <td>0.766093</td>\n",
       "      <td>0.766093</td>\n",
       "    </tr>\n",
       "    <tr>\n",
       "      <th>AdaBoostClassifier()</th>\n",
       "      <td>0.741709</td>\n",
       "      <td>0.725940</td>\n",
       "      <td>0.725940</td>\n",
       "    </tr>\n",
       "    <tr>\n",
       "      <th>BaggingClassifier()</th>\n",
       "      <td>0.966624</td>\n",
       "      <td>0.764818</td>\n",
       "      <td>0.764818</td>\n",
       "    </tr>\n",
       "  </tbody>\n",
       "</table>\n",
       "</div>"
      ],
      "text/plain": [
       "                          train_score  test_score  acc_score\n",
       "LogisticRegression()         0.947066    0.827916   0.827916\n",
       "KNeighborsClassifier()       0.785077    0.673040   0.673040\n",
       "SVC()                        0.894983    0.807521   0.807521\n",
       "RandomForestClassifier()     0.981718    0.814532   0.814532\n",
       "DecisionTreeClassifier()     0.981718    0.766093   0.766093\n",
       "AdaBoostClassifier()         0.741709    0.725940   0.725940\n",
       "BaggingClassifier()          0.966624    0.764818   0.764818"
      ]
     },
     "execution_count": 15,
     "metadata": {},
     "output_type": "execute_result"
    }
   ],
   "source": [
    "mod_df"
   ]
  },
  {
   "cell_type": "code",
   "execution_count": 16,
   "metadata": {},
   "outputs": [
    {
     "data": {
      "image/png": "[encoded data removed]",
      "text/plain": [
       "<Figure size 1224x432 with 1 Axes>"
      ]
     },
     "metadata": {
      "needs_background": "light"
     },
     "output_type": "display_data"
    }
   ],
   "source": [
    "# plot this\n",
    "plt.figure(figsize=(17,6))\n",
    "sns.barplot(data=mod_df, x=mod_df.index, y='acc_score')\n",
    "plt.title('Accuracy Score per Model');"
   ]
  },
  {
   "cell_type": "markdown",
   "metadata": {},
   "source": [
    "## Annotation:\n",
    "Graph shows deafult parameters for each classifier and their accuracy score with countvectorized stemmed data.  Logistic regression shown again as the highest accuracy score followed by SVC and random forest.\n"
   ]
  },
  {
   "cell_type": "code",
   "execution_count": 19,
   "metadata": {},
   "outputs": [],
   "source": [
    "# frist gridsearch countvectorizer and logistic regression\n",
    "# based on the previous models will use half the size of sparse matrix for max_feartures\n",
    "pipe = Pipeline([\n",
    "    ('cvec', CountVectorizer()),\n",
    "    ('logreg', LogisticRegression())\n",
    "])"
   ]
  },
  {
   "cell_type": "code",
   "execution_count": 48,
   "metadata": {},
   "outputs": [],
   "source": [
    "# pipe params\n",
    "pipe_params = {\n",
    "    'cvec__stop_words'   : [None, custom_stop_words_all],\n",
    "    'cvec__max_features' : [None, 3500],\n",
    "    'cvec__ngram_range'  : [(1,1), (1,4)],\n",
    "    'logreg__C'          : np.linspace(0.0001, 0.75, 5),\n",
    "    'logreg__max_iter'   : [1000],\n",
    "    'logreg__penalty'    : ['l1', 'l2'],\n",
    "    'logreg__solver'     : ['liblinear']\n",
    "}"
   ]
  },
  {
   "cell_type": "code",
   "execution_count": 49,
   "metadata": {},
   "outputs": [],
   "source": [
    "gs1 = GridSearchCV(pipe, pipe_params, cv=5)"
   ]
  },
  {
   "cell_type": "code",
   "execution_count": 50,
   "metadata": {},
   "outputs": [
    {
     "data": {
      "text/plain": [
       "GridSearchCV(cv=5,\n",
       "             estimator=Pipeline(steps=[('cvec', CountVectorizer()),\n",
       "                                       ('logreg', LogisticRegression())]),\n",
       "             param_grid={'cvec__max_features': [None, 3500],\n",
       "                         'cvec__ngram_range': [(1, 1), (1, 4)],\n",
       "                         'cvec__stop_words': [None,\n",
       "                                              ['had', 'her', 'since', 'nobody',\n",
       "                                               'rather', 'alone', 'thus',\n",
       "                                               'cant', 'own', 'bill',\n",
       "                                               'yourself', 'what', 'mine',\n",
       "                                               'fifteen', 'a', 'moreover',\n",
       "                                               'interest', 'three', 'to',\n",
       "                                               'next', 'hereby', 'themselves',\n",
       "                                               'six', 'our', 'hasnt', 'none',\n",
       "                                               'well', 'found', 'together',\n",
       "                                               'if', ...]],\n",
       "                         'logreg__C': array([1.00000e-04, 1.87575e-01, 3.75050e-01, 5.62525e-01, 7.50000e-01]),\n",
       "                         'logreg__max_iter': [1000],\n",
       "                         'logreg__penalty': ['l1', 'l2'],\n",
       "                         'logreg__solver': ['liblinear']})"
      ]
     },
     "execution_count": 50,
     "metadata": {},
     "output_type": "execute_result"
    }
   ],
   "source": [
    "gs1.fit(X_train.astype(str), y_train)"
   ]
  },
  {
   "cell_type": "code",
   "execution_count": 51,
   "metadata": {
    "collapsed": true,
    "jupyter": {
     "outputs_hidden": true
    }
   },
   "outputs": [
    {
     "data": {
      "text/plain": [
       "{'cvec__max_features': None,\n",
       " 'cvec__ngram_range': (1, 1),\n",
       " 'cvec__stop_words': ['had',\n",
       "  'her',\n",
       "  'since',\n",
       "  'nobody',\n",
       "  'rather',\n",
       "  'alone',\n",
       "  'thus',\n",
       "  'cant',\n",
       "  'own',\n",
       "  'bill',\n",
       "  'yourself',\n",
       "  'what',\n",
       "  'mine',\n",
       "  'fifteen',\n",
       "  'a',\n",
       "  'moreover',\n",
       "  'interest',\n",
       "  'three',\n",
       "  'to',\n",
       "  'next',\n",
       "  'hereby',\n",
       "  'themselves',\n",
       "  'six',\n",
       "  'our',\n",
       "  'hasnt',\n",
       "  'none',\n",
       "  'well',\n",
       "  'found',\n",
       "  'together',\n",
       "  'if',\n",
       "  'go',\n",
       "  'same',\n",
       "  'us',\n",
       "  'move',\n",
       "  'as',\n",
       "  'will',\n",
       "  'at',\n",
       "  'last',\n",
       "  'latter',\n",
       "  'also',\n",
       "  'first',\n",
       "  'ourselves',\n",
       "  'ever',\n",
       "  'thick',\n",
       "  'am',\n",
       "  'but',\n",
       "  'find',\n",
       "  'by',\n",
       "  'de',\n",
       "  'otherwise',\n",
       "  'once',\n",
       "  'during',\n",
       "  'ours',\n",
       "  'full',\n",
       "  'almost',\n",
       "  'whither',\n",
       "  'he',\n",
       "  'are',\n",
       "  'along',\n",
       "  'anywhere',\n",
       "  'nothing',\n",
       "  'seem',\n",
       "  'which',\n",
       "  'this',\n",
       "  'already',\n",
       "  'throughout',\n",
       "  'whoever',\n",
       "  'yourselves',\n",
       "  'she',\n",
       "  'something',\n",
       "  'sincere',\n",
       "  'them',\n",
       "  'could',\n",
       "  'ie',\n",
       "  'on',\n",
       "  'yours',\n",
       "  'least',\n",
       "  'always',\n",
       "  'that',\n",
       "  'besides',\n",
       "  'do',\n",
       "  'has',\n",
       "  'my',\n",
       "  'every',\n",
       "  'whenever',\n",
       "  'latterly',\n",
       "  'become',\n",
       "  'mill',\n",
       "  'sometimes',\n",
       "  'inc',\n",
       "  'thence',\n",
       "  'were',\n",
       "  'whole',\n",
       "  'everyone',\n",
       "  'while',\n",
       "  'please',\n",
       "  'nor',\n",
       "  'twelve',\n",
       "  'one',\n",
       "  'onto',\n",
       "  'never',\n",
       "  'we',\n",
       "  'its',\n",
       "  'among',\n",
       "  'beyond',\n",
       "  'out',\n",
       "  'somewhere',\n",
       "  'no',\n",
       "  'someone',\n",
       "  'up',\n",
       "  'side',\n",
       "  'the',\n",
       "  'amoungst',\n",
       "  'name',\n",
       "  'before',\n",
       "  'four',\n",
       "  'hereafter',\n",
       "  'etc',\n",
       "  'until',\n",
       "  'beside',\n",
       "  'again',\n",
       "  'give',\n",
       "  'too',\n",
       "  'more',\n",
       "  'wherein',\n",
       "  'him',\n",
       "  'whose',\n",
       "  'enough',\n",
       "  'both',\n",
       "  'co',\n",
       "  'see',\n",
       "  'top',\n",
       "  'nowhere',\n",
       "  'therefore',\n",
       "  'within',\n",
       "  'thin',\n",
       "  'sixty',\n",
       "  'fifty',\n",
       "  'twenty',\n",
       "  'why',\n",
       "  'made',\n",
       "  'mostly',\n",
       "  'namely',\n",
       "  'via',\n",
       "  'might',\n",
       "  'where',\n",
       "  'hundred',\n",
       "  'often',\n",
       "  'was',\n",
       "  'per',\n",
       "  'fire',\n",
       "  'then',\n",
       "  'hereupon',\n",
       "  'less',\n",
       "  'yet',\n",
       "  'everywhere',\n",
       "  'when',\n",
       "  'nine',\n",
       "  'becoming',\n",
       "  'call',\n",
       "  'herself',\n",
       "  'whereafter',\n",
       "  'should',\n",
       "  'after',\n",
       "  'elsewhere',\n",
       "  'nevertheless',\n",
       "  'thereupon',\n",
       "  'between',\n",
       "  'couldnt',\n",
       "  'now',\n",
       "  'off',\n",
       "  'from',\n",
       "  'seemed',\n",
       "  'detail',\n",
       "  'take',\n",
       "  'herein',\n",
       "  'each',\n",
       "  'serious',\n",
       "  'been',\n",
       "  'get',\n",
       "  'those',\n",
       "  'another',\n",
       "  'must',\n",
       "  'much',\n",
       "  'itself',\n",
       "  'because',\n",
       "  'still',\n",
       "  'without',\n",
       "  'hers',\n",
       "  'most',\n",
       "  'may',\n",
       "  'part',\n",
       "  'your',\n",
       "  'cry',\n",
       "  'either',\n",
       "  'hence',\n",
       "  'is',\n",
       "  'afterwards',\n",
       "  'keep',\n",
       "  'over',\n",
       "  'of',\n",
       "  'whereupon',\n",
       "  'anything',\n",
       "  'for',\n",
       "  'everything',\n",
       "  'done',\n",
       "  'becomes',\n",
       "  'eight',\n",
       "  'five',\n",
       "  'several',\n",
       "  'many',\n",
       "  'have',\n",
       "  'against',\n",
       "  'anyone',\n",
       "  'any',\n",
       "  'through',\n",
       "  'show',\n",
       "  'you',\n",
       "  'who',\n",
       "  'myself',\n",
       "  'can',\n",
       "  'toward',\n",
       "  'noone',\n",
       "  'anyway',\n",
       "  'amount',\n",
       "  'formerly',\n",
       "  'put',\n",
       "  'con',\n",
       "  'down',\n",
       "  'not',\n",
       "  'be',\n",
       "  'further',\n",
       "  'some',\n",
       "  'few',\n",
       "  'seems',\n",
       "  'amongst',\n",
       "  'ltd',\n",
       "  'though',\n",
       "  'whether',\n",
       "  'behind',\n",
       "  'else',\n",
       "  'into',\n",
       "  'bottom',\n",
       "  'beforehand',\n",
       "  'an',\n",
       "  'across',\n",
       "  'would',\n",
       "  'upon',\n",
       "  'sometime',\n",
       "  'somehow',\n",
       "  'whereby',\n",
       "  'even',\n",
       "  'indeed',\n",
       "  'forty',\n",
       "  'being',\n",
       "  'became',\n",
       "  'two',\n",
       "  'with',\n",
       "  'or',\n",
       "  'perhaps',\n",
       "  'front',\n",
       "  'only',\n",
       "  'whatever',\n",
       "  'below',\n",
       "  'they',\n",
       "  'due',\n",
       "  'and',\n",
       "  'such',\n",
       "  'all',\n",
       "  'i',\n",
       "  'neither',\n",
       "  'former',\n",
       "  'cannot',\n",
       "  'whereas',\n",
       "  'meanwhile',\n",
       "  'other',\n",
       "  'describe',\n",
       "  'in',\n",
       "  'me',\n",
       "  'anyhow',\n",
       "  'back',\n",
       "  'here',\n",
       "  'therein',\n",
       "  'his',\n",
       "  'whom',\n",
       "  'eleven',\n",
       "  'so',\n",
       "  'although',\n",
       "  'empty',\n",
       "  'except',\n",
       "  'than',\n",
       "  'these',\n",
       "  'above',\n",
       "  'wherever',\n",
       "  'seeming',\n",
       "  'very',\n",
       "  'ten',\n",
       "  'thereby',\n",
       "  'their',\n",
       "  'under',\n",
       "  'towards',\n",
       "  're',\n",
       "  'thru',\n",
       "  'however',\n",
       "  'others',\n",
       "  'whence',\n",
       "  'fill',\n",
       "  'third',\n",
       "  'it',\n",
       "  'eg',\n",
       "  'there',\n",
       "  'un',\n",
       "  'himself',\n",
       "  'about',\n",
       "  'how',\n",
       "  'around',\n",
       "  'thereafter',\n",
       "  'system',\n",
       "  'https',\n",
       "  'com',\n",
       "  'lol',\n",
       "  'just',\n",
       "  'like',\n",
       "  'http',\n",
       "  'ha',\n",
       "  'game',\n",
       "  'wa',\n",
       "  'team',\n",
       "  'win',\n",
       "  'pick',\n",
       "  'good',\n",
       "  'point',\n",
       "  'time',\n",
       "  'think',\n",
       "  'got',\n",
       "  'going',\n",
       "  'don',\n",
       "  'play',\n",
       "  'money',\n",
       "  'day',\n",
       "  'really',\n",
       "  've',\n",
       "  'make',\n",
       "  'look',\n",
       "  'won',\n",
       "  'right',\n",
       "  'know',\n",
       "  'll',\n",
       "  'bet',\n",
       "  'today',\n",
       "  'line',\n",
       "  'way',\n",
       "  'better',\n",
       "  'best',\n",
       "  'didn',\n",
       "  'did',\n",
       "  'need',\n",
       "  '10',\n",
       "  'nba',\n",
       "  'big'],\n",
       " 'logreg__C': 0.75,\n",
       " 'logreg__max_iter': 1000,\n",
       " 'logreg__penalty': 'l2',\n",
       " 'logreg__solver': 'liblinear'}"
      ]
     },
     "execution_count": 51,
     "metadata": {},
     "output_type": "execute_result"
    }
   ],
   "source": [
    "gs1.best_params_"
   ]
  },
  {
   "cell_type": "code",
   "execution_count": 52,
   "metadata": {},
   "outputs": [
    {
     "data": {
      "text/plain": [
       "0.8199394035317793"
      ]
     },
     "execution_count": 52,
     "metadata": {},
     "output_type": "execute_result"
    }
   ],
   "source": [
    "gs1.best_score_"
   ]
  },
  {
   "cell_type": "code",
   "execution_count": 53,
   "metadata": {},
   "outputs": [
    {
     "data": {
      "text/plain": [
       "0.9409013605442177"
      ]
     },
     "execution_count": 53,
     "metadata": {},
     "output_type": "execute_result"
    }
   ],
   "source": [
    "gs1.score(X_train.astype(str), y_train)"
   ]
  },
  {
   "cell_type": "code",
   "execution_count": 54,
   "metadata": {},
   "outputs": [
    {
     "data": {
      "text/plain": [
       "0.8272785213511791"
      ]
     },
     "execution_count": 54,
     "metadata": {},
     "output_type": "execute_result"
    }
   ],
   "source": [
    "gs1.score(X_test.astype(str), y_test)"
   ]
  },
  {
   "cell_type": "code",
   "execution_count": 55,
   "metadata": {},
   "outputs": [],
   "source": [
    "coef_df = pd.DataFrame(index=cvec.get_feature_names(), data=logreg.coef_[0], columns=['Coefficient Value'])"
   ]
  },
  {
   "cell_type": "code",
   "execution_count": 56,
   "metadata": {},
   "outputs": [],
   "source": [
    "coef_df.sort_values(by='Coefficient Value', inplace=True)"
   ]
  },
  {
   "cell_type": "code",
   "execution_count": 57,
   "metadata": {},
   "outputs": [
    {
     "data": {
      "text/html": [
       "<div>\n",
       "<style scoped>\n",
       "    .dataframe tbody tr th:only-of-type {\n",
       "        vertical-align: middle;\n",
       "    }\n",
       "\n",
       "    .dataframe tbody tr th {\n",
       "        vertical-align: top;\n",
       "    }\n",
       "\n",
       "    .dataframe thead th {\n",
       "        text-align: right;\n",
       "    }\n",
       "</style>\n",
       "<table border=\"1\" class=\"dataframe\">\n",
       "  <thead>\n",
       "    <tr style=\"text-align: right;\">\n",
       "      <th></th>\n",
       "      <th>Coefficient Value</th>\n",
       "    </tr>\n",
       "  </thead>\n",
       "  <tbody>\n",
       "    <tr>\n",
       "      <th>lineup</th>\n",
       "      <td>-2.967147</td>\n",
       "    </tr>\n",
       "    <tr>\n",
       "      <th>dfs</th>\n",
       "      <td>-2.602237</td>\n",
       "    </tr>\n",
       "    <tr>\n",
       "      <th>center</th>\n",
       "      <td>-2.526715</td>\n",
       "    </tr>\n",
       "    <tr>\n",
       "      <th>guard</th>\n",
       "      <td>-2.485724</td>\n",
       "    </tr>\n",
       "    <tr>\n",
       "      <th>tax</th>\n",
       "      <td>-2.049531</td>\n",
       "    </tr>\n",
       "    <tr>\n",
       "      <th>forward</th>\n",
       "      <td>-1.857140</td>\n",
       "    </tr>\n",
       "    <tr>\n",
       "      <th>entry</th>\n",
       "      <td>-1.810254</td>\n",
       "    </tr>\n",
       "    <tr>\n",
       "      <th>groupchat</th>\n",
       "      <td>-1.597185</td>\n",
       "    </tr>\n",
       "    <tr>\n",
       "      <th>contest</th>\n",
       "      <td>-1.581090</td>\n",
       "    </tr>\n",
       "    <tr>\n",
       "      <th>projection</th>\n",
       "      <td>-1.560179</td>\n",
       "    </tr>\n",
       "  </tbody>\n",
       "</table>\n",
       "</div>"
      ],
      "text/plain": [
       "            Coefficient Value\n",
       "lineup              -2.967147\n",
       "dfs                 -2.602237\n",
       "center              -2.526715\n",
       "guard               -2.485724\n",
       "tax                 -2.049531\n",
       "forward             -1.857140\n",
       "entry               -1.810254\n",
       "groupchat           -1.597185\n",
       "contest             -1.581090\n",
       "projection          -1.560179"
      ]
     },
     "execution_count": 57,
     "metadata": {},
     "output_type": "execute_result"
    }
   ],
   "source": [
    "coef_df.head(10)"
   ]
  },
  {
   "cell_type": "code",
   "execution_count": 58,
   "metadata": {},
   "outputs": [
    {
     "data": {
      "text/html": [
       "<div>\n",
       "<style scoped>\n",
       "    .dataframe tbody tr th:only-of-type {\n",
       "        vertical-align: middle;\n",
       "    }\n",
       "\n",
       "    .dataframe tbody tr th {\n",
       "        vertical-align: top;\n",
       "    }\n",
       "\n",
       "    .dataframe thead th {\n",
       "        text-align: right;\n",
       "    }\n",
       "</style>\n",
       "<table border=\"1\" class=\"dataframe\">\n",
       "  <thead>\n",
       "    <tr style=\"text-align: right;\">\n",
       "      <th></th>\n",
       "      <th>Coefficient Value</th>\n",
       "    </tr>\n",
       "  </thead>\n",
       "  <tbody>\n",
       "    <tr>\n",
       "      <th>michigan</th>\n",
       "      <td>1.616395</td>\n",
       "    </tr>\n",
       "    <tr>\n",
       "      <th>francis</th>\n",
       "      <td>1.618247</td>\n",
       "    </tr>\n",
       "    <tr>\n",
       "      <th>tailing</th>\n",
       "      <td>1.661246</td>\n",
       "    </tr>\n",
       "    <tr>\n",
       "      <th>houston</th>\n",
       "      <td>1.727950</td>\n",
       "    </tr>\n",
       "    <tr>\n",
       "      <th>ml</th>\n",
       "      <td>1.790283</td>\n",
       "    </tr>\n",
       "    <tr>\n",
       "      <th>gonzaga</th>\n",
       "      <td>1.816553</td>\n",
       "    </tr>\n",
       "    <tr>\n",
       "      <th>cuse</th>\n",
       "      <td>1.928455</td>\n",
       "    </tr>\n",
       "    <tr>\n",
       "      <th>stipe</th>\n",
       "      <td>2.064305</td>\n",
       "    </tr>\n",
       "    <tr>\n",
       "      <th>ngannou</th>\n",
       "      <td>2.085537</td>\n",
       "    </tr>\n",
       "    <tr>\n",
       "      <th>creighton</th>\n",
       "      <td>2.291127</td>\n",
       "    </tr>\n",
       "  </tbody>\n",
       "</table>\n",
       "</div>"
      ],
      "text/plain": [
       "           Coefficient Value\n",
       "michigan            1.616395\n",
       "francis             1.618247\n",
       "tailing             1.661246\n",
       "houston             1.727950\n",
       "ml                  1.790283\n",
       "gonzaga             1.816553\n",
       "cuse                1.928455\n",
       "stipe               2.064305\n",
       "ngannou             2.085537\n",
       "creighton           2.291127"
      ]
     },
     "execution_count": 58,
     "metadata": {},
     "output_type": "execute_result"
    }
   ],
   "source": [
    "coef_df.tail(10)"
   ]
  },
  {
   "cell_type": "markdown",
   "metadata": {},
   "source": [
    "## Annotation:\n",
    "Negative coefficients have strongest correlation to dfsports and positive coeficients have strongest correlation to sportsbook.  The final model provided from the pipeline gave us an accuracy score of .82, which is better than the baseline of .50.  This is not the best model but by reducing the C value and adding a penalty we were able to combat the over fitness of the base model.  As a recommendation, to help our model in both accuracy and over fitness more cleaning would need to be performed.  There are words that are bogging down the model, so another run at taking out unnecessary words and adding more stop words would be a solution to this problem.  Another solution could be adding more data, using more comments from another point in time. Figure 3 shows the scores of the models performance, below."
   ]
  },
  {
   "cell_type": "code",
   "execution_count": 100,
   "metadata": {},
   "outputs": [],
   "source": [
    "# next classifier is support vector machines where we will use C, gamma, kernel has parameters\n",
    "pipe2 = Pipeline([\n",
    "    ('cvec', CountVectorizer()),\n",
    "    ('svc', SVC())\n",
    "])"
   ]
  },
  {
   "cell_type": "code",
   "execution_count": 110,
   "metadata": {},
   "outputs": [],
   "source": [
    "# pipe params\n",
    "pipe_params2 = {\n",
    "    'cvec__max_features' : [500, 1000, 1500],\n",
    "    'cvec__ngram_range'  : [(1,1), (1,3), (1,4)],\n",
    "    'svc__C'             : np.linspace(0.0001, .75, 5),\n",
    "    'svc__gamma'         : ['scale', 'auto'],\n",
    "    'svc__kernel'        : ['linear', 'rbf']\n",
    "}"
   ]
  },
  {
   "cell_type": "code",
   "execution_count": 111,
   "metadata": {},
   "outputs": [],
   "source": [
    "gs2 = GridSearchCV(pipe2, pipe_params2, cv=5)"
   ]
  },
  {
   "cell_type": "code",
   "execution_count": 112,
   "metadata": {},
   "outputs": [
    {
     "data": {
      "text/plain": [
       "GridSearchCV(cv=5,\n",
       "             estimator=Pipeline(steps=[('cvec', CountVectorizer()),\n",
       "                                       ('svc', SVC())]),\n",
       "             param_grid={'cvec__max_features': [500, 1000, 1500],\n",
       "                         'cvec__ngram_range': [(1, 1), (1, 3), (1, 4)],\n",
       "                         'svc__C': array([1.00000e-04, 1.87575e-01, 3.75050e-01, 5.62525e-01, 7.50000e-01]),\n",
       "                         'svc__gamma': ['scale', 'auto'],\n",
       "                         'svc__kernel': ['linear', 'rbf']})"
      ]
     },
     "execution_count": 112,
     "metadata": {},
     "output_type": "execute_result"
    }
   ],
   "source": [
    "gs2.fit(X_train.astype(str), y_train)"
   ]
  },
  {
   "cell_type": "code",
   "execution_count": 113,
   "metadata": {},
   "outputs": [
    {
     "data": {
      "text/plain": [
       "0.7891147941302824"
      ]
     },
     "execution_count": 113,
     "metadata": {},
     "output_type": "execute_result"
    }
   ],
   "source": [
    "gs2.best_score_"
   ]
  },
  {
   "cell_type": "code",
   "execution_count": 114,
   "metadata": {},
   "outputs": [
    {
     "data": {
      "text/plain": [
       "0.877125850340136"
      ]
     },
     "execution_count": 114,
     "metadata": {},
     "output_type": "execute_result"
    }
   ],
   "source": [
    "gs2.score(X_train.astype(str), y_train)"
   ]
  },
  {
   "cell_type": "code",
   "execution_count": 115,
   "metadata": {},
   "outputs": [
    {
     "data": {
      "text/plain": [
       "0.815806246016571"
      ]
     },
     "execution_count": 115,
     "metadata": {},
     "output_type": "execute_result"
    }
   ],
   "source": [
    "gs2.score(X_test.astype(str), y_test)"
   ]
  },
  {
   "cell_type": "code",
   "execution_count": 116,
   "metadata": {},
   "outputs": [
    {
     "data": {
      "text/plain": [
       "{'cvec__max_features': 1500,\n",
       " 'cvec__ngram_range': (1, 3),\n",
       " 'svc__C': 0.187575,\n",
       " 'svc__gamma': 'scale',\n",
       " 'svc__kernel': 'linear'}"
      ]
     },
     "execution_count": 116,
     "metadata": {},
     "output_type": "execute_result"
    }
   ],
   "source": [
    "gs2.best_params_"
   ]
  },
  {
   "cell_type": "markdown",
   "metadata": {},
   "source": [
    "## Annotation:\n",
    "Starting to see a ceiling for testing score, around .80-.82 between classifiers.  SVC has a accuracy score less than the logistic regression and shows same over fitness between training and testing scores."
   ]
  },
  {
   "cell_type": "code",
   "execution_count": 72,
   "metadata": {},
   "outputs": [],
   "source": [
    "ranforest = RandomForestClassifier()"
   ]
  },
  {
   "cell_type": "code",
   "execution_count": 75,
   "metadata": {},
   "outputs": [
    {
     "data": {
      "text/plain": [
       "RandomForestClassifier()"
      ]
     },
     "execution_count": 75,
     "metadata": {},
     "output_type": "execute_result"
    }
   ],
   "source": [
    "ranforest.fit(X_train_cvec, y_train)"
   ]
  },
  {
   "cell_type": "code",
   "execution_count": 82,
   "metadata": {},
   "outputs": [
    {
     "data": {
      "text/plain": [
       "0.98171768707483"
      ]
     },
     "execution_count": 82,
     "metadata": {},
     "output_type": "execute_result"
    }
   ],
   "source": [
    "# check random forest, stats\n",
    "ranforest.score(X_train_cvec, y_train)"
   ]
  },
  {
   "cell_type": "code",
   "execution_count": 85,
   "metadata": {},
   "outputs": [
    {
     "data": {
      "text/plain": [
       "0.8138942001274697"
      ]
     },
     "execution_count": 85,
     "metadata": {},
     "output_type": "execute_result"
    }
   ],
   "source": [
    "# test score\n",
    "ranforest.score(X_test_cvec, y_test)"
   ]
  },
  {
   "cell_type": "code",
   "execution_count": 86,
   "metadata": {},
   "outputs": [
    {
     "data": {
      "text/plain": [
       "0.8138942001274697"
      ]
     },
     "execution_count": 86,
     "metadata": {},
     "output_type": "execute_result"
    }
   ],
   "source": [
    "accuracy_score(y_test, ranforest.predict(X_test_cvec))"
   ]
  },
  {
   "cell_type": "code",
   "execution_count": 88,
   "metadata": {},
   "outputs": [
    {
     "data": {
      "image/png": "[encoded data removed]",
      "text/plain": [
       "<Figure size 432x288 with 2 Axes>"
      ]
     },
     "metadata": {
      "needs_background": "light"
     },
     "output_type": "display_data"
    }
   ],
   "source": [
    "cm = confusion_matrix(y_test, ranforest.predict(X_test_cvec))\n",
    "ConfusionMatrixDisplay(cm).plot();"
   ]
  },
  {
   "cell_type": "markdown",
   "metadata": {},
   "source": [
    "## Annotation:\n",
    "Again testing score capping out at similar range mentioned above.  Very strong training score parameters need to combat that.  "
   ]
  }
 ],
 "metadata": {
  "kernelspec": {
   "display_name": "Python 3",
   "language": "python",
   "name": "python3"
  },
  "language_info": {
   "codemirror_mode": {
    "name": "ipython",
    "version": 3
   },
   "file_extension": ".py",
   "mimetype": "text/x-python",
   "name": "python",
   "nbconvert_exporter": "python",
   "pygments_lexer": "ipython3",
   "version": "3.8.5"
  }
 },
 "nbformat": 4,
 "nbformat_minor": 4
}
