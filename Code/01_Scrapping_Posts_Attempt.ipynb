{
 "cells": [
  {
   "cell_type": "code",
   "execution_count": 1,
   "metadata": {},
   "outputs": [],
   "source": [
    "# reference: Push shift youtube video by Riley Dallas"
   ]
  },
  {
   "cell_type": "code",
   "execution_count": 1,
   "metadata": {},
   "outputs": [],
   "source": [
    "# imports \n",
    "import pandas as pd\n",
    "import requests"
   ]
  },
  {
   "cell_type": "code",
   "execution_count": 2,
   "metadata": {},
   "outputs": [],
   "source": [
    "# set url of api\n",
    "url = 'https://api.pushshift.io/reddit/search/submission'"
   ]
  },
  {
   "cell_type": "code",
   "execution_count": 3,
   "metadata": {},
   "outputs": [],
   "source": [
    "# set params for resquests .get\n",
    "params = {\n",
    "    'subreddit' : 'sportsbook',\n",
    "    'size'      : 100\n",
    "    #'before'    : 1615836061\n",
    "}"
   ]
  },
  {
   "cell_type": "code",
   "execution_count": 4,
   "metadata": {},
   "outputs": [],
   "source": [
    "# response variable set up using url and params\n",
    "res = requests.get(url, params)"
   ]
  },
  {
   "cell_type": "code",
   "execution_count": 5,
   "metadata": {},
   "outputs": [
    {
     "data": {
      "text/plain": [
       "200"
      ]
     },
     "execution_count": 5,
     "metadata": {},
     "output_type": "execute_result"
    }
   ],
   "source": [
    "# test communication 200 is good\n",
    "res.status_code"
   ]
  },
  {
   "cell_type": "code",
   "execution_count": 6,
   "metadata": {},
   "outputs": [],
   "source": [
    "# look at data\n",
    "#res.json()\n",
    "data = res.json()"
   ]
  },
  {
   "cell_type": "code",
   "execution_count": 7,
   "metadata": {},
   "outputs": [],
   "source": [
    "#data['data']\n",
    "posts = data['data']"
   ]
  },
  {
   "cell_type": "code",
   "execution_count": 8,
   "metadata": {},
   "outputs": [
    {
     "data": {
      "text/plain": [
       "100"
      ]
     },
     "execution_count": 8,
     "metadata": {},
     "output_type": "execute_result"
    }
   ],
   "source": [
    "len(posts)"
   ]
  },
  {
   "cell_type": "code",
   "execution_count": 9,
   "metadata": {},
   "outputs": [],
   "source": [
    "# convert to df\n",
    "df = pd.DataFrame(posts)"
   ]
  },
  {
   "cell_type": "code",
   "execution_count": 10,
   "metadata": {},
   "outputs": [
    {
     "data": {
      "text/plain": [
       "Index(['all_awardings', 'allow_live_comments', 'author',\n",
       "       'author_flair_css_class', 'author_flair_richtext', 'author_flair_text',\n",
       "       'author_flair_type', 'author_fullname', 'author_patreon_flair',\n",
       "       'author_premium', 'awarders', 'can_mod_post', 'contest_mode',\n",
       "       'created_utc', 'domain', 'full_link', 'gildings', 'id',\n",
       "       'is_crosspostable', 'is_meta', 'is_original_content',\n",
       "       'is_reddit_media_domain', 'is_robot_indexable', 'is_self', 'is_video',\n",
       "       'link_flair_background_color', 'link_flair_richtext',\n",
       "       'link_flair_text_color', 'link_flair_type', 'locked', 'media_only',\n",
       "       'no_follow', 'num_comments', 'num_crossposts', 'over_18',\n",
       "       'parent_whitelist_status', 'permalink', 'pinned', 'post_hint',\n",
       "       'preview', 'pwls', 'removed_by_category', 'retrieved_on', 'score',\n",
       "       'selftext', 'send_replies', 'spoiler', 'stickied', 'subreddit',\n",
       "       'subreddit_id', 'subreddit_subscribers', 'subreddit_type', 'thumbnail',\n",
       "       'title', 'total_awards_received', 'treatment_tags', 'upvote_ratio',\n",
       "       'url', 'whitelist_status', 'wls', 'link_flair_template_id',\n",
       "       'link_flair_text', 'suggested_sort', 'author_flair_background_color',\n",
       "       'author_flair_text_color', 'discussion_type'],\n",
       "      dtype='object')"
      ]
     },
     "execution_count": 10,
     "metadata": {},
     "output_type": "execute_result"
    }
   ],
   "source": [
    "df.columns"
   ]
  },
  {
   "cell_type": "code",
   "execution_count": 11,
   "metadata": {},
   "outputs": [],
   "source": [
    "# pull columns needs \n",
    "df = df[['subreddit', 'selftext', 'title', 'created_utc', 'author', 'permalink']]"
   ]
  },
  {
   "cell_type": "code",
   "execution_count": 12,
   "metadata": {},
   "outputs": [],
   "source": [
    "# create function to get submission header from permalink\n",
    "link_list = list(df['permalink'].str.split('/'))\n",
    "sub_list = []\n",
    "for i in link_list:\n",
    "    sub_list.append(i[5])"
   ]
  },
  {
   "cell_type": "code",
   "execution_count": 13,
   "metadata": {},
   "outputs": [],
   "source": [
    "df['submission_title'] = sub_list"
   ]
  },
  {
   "cell_type": "code",
   "execution_count": 14,
   "metadata": {},
   "outputs": [
    {
     "data": {
      "text/html": [
       "<div>\n",
       "<style scoped>\n",
       "    .dataframe tbody tr th:only-of-type {\n",
       "        vertical-align: middle;\n",
       "    }\n",
       "\n",
       "    .dataframe tbody tr th {\n",
       "        vertical-align: top;\n",
       "    }\n",
       "\n",
       "    .dataframe thead th {\n",
       "        text-align: right;\n",
       "    }\n",
       "</style>\n",
       "<table border=\"1\" class=\"dataframe\">\n",
       "  <thead>\n",
       "    <tr style=\"text-align: right;\">\n",
       "      <th></th>\n",
       "      <th>subreddit</th>\n",
       "      <th>selftext</th>\n",
       "      <th>title</th>\n",
       "      <th>created_utc</th>\n",
       "      <th>author</th>\n",
       "      <th>permalink</th>\n",
       "      <th>submission_title</th>\n",
       "    </tr>\n",
       "  </thead>\n",
       "  <tbody>\n",
       "    <tr>\n",
       "      <th>0</th>\n",
       "      <td>sportsbook</td>\n",
       "      <td>[removed]</td>\n",
       "      <td>Who’s Gonna Win ESL Pro League Season 13 Group D?</td>\n",
       "      <td>1617032962</td>\n",
       "      <td>Tygar1no</td>\n",
       "      <td>/r/sportsbook/comments/mfshhd/whos_gonna_win_e...</td>\n",
       "      <td>whos_gonna_win_esl_pro_league_season_13_group_d</td>\n",
       "    </tr>\n",
       "    <tr>\n",
       "      <th>1</th>\n",
       "      <td>sportsbook</td>\n",
       "      <td>As always, HUGE shout out to [u/eise87](https:...</td>\n",
       "      <td>Quick Elite Eight thoughts (somewhat based on ...</td>\n",
       "      <td>1617032362</td>\n",
       "      <td>nez477</td>\n",
       "      <td>/r/sportsbook/comments/mfs9uu/quick_elite_eigh...</td>\n",
       "      <td>quick_elite_eight_thoughts_somewhat_based_on</td>\n",
       "    </tr>\n",
       "    <tr>\n",
       "      <th>2</th>\n",
       "      <td>sportsbook</td>\n",
       "      <td>3,481/279,845 remain, this weekend saw Loyola ...</td>\n",
       "      <td>Draft Kings $1M March Madness Survivor Pool: E...</td>\n",
       "      <td>1617031975</td>\n",
       "      <td>theGOATbogeygolfer</td>\n",
       "      <td>/r/sportsbook/comments/mfs52s/draft_kings_1m_m...</td>\n",
       "      <td>draft_kings_1m_march_madness_survivor_pool_eli...</td>\n",
       "    </tr>\n",
       "    <tr>\n",
       "      <th>3</th>\n",
       "      <td>sportsbook</td>\n",
       "      <td>Just now signing up for William hill. Best way...</td>\n",
       "      <td>WH Sign Up</td>\n",
       "      <td>1617030894</td>\n",
       "      <td>jordanmarentette</td>\n",
       "      <td>/r/sportsbook/comments/mfrr0w/wh_sign_up/</td>\n",
       "      <td>wh_sign_up</td>\n",
       "    </tr>\n",
       "    <tr>\n",
       "      <th>4</th>\n",
       "      <td>sportsbook</td>\n",
       "      <td>[removed]</td>\n",
       "      <td>Arnold Schwarzenegger Bodybuilding</td>\n",
       "      <td>1617030794</td>\n",
       "      <td>darekgraczyk</td>\n",
       "      <td>/r/sportsbook/comments/mfrpoi/arnold_schwarzen...</td>\n",
       "      <td>arnold_schwarzenegger_bodybuilding</td>\n",
       "    </tr>\n",
       "  </tbody>\n",
       "</table>\n",
       "</div>"
      ],
      "text/plain": [
       "    subreddit                                           selftext  \\\n",
       "0  sportsbook                                          [removed]   \n",
       "1  sportsbook  As always, HUGE shout out to [u/eise87](https:...   \n",
       "2  sportsbook  3,481/279,845 remain, this weekend saw Loyola ...   \n",
       "3  sportsbook  Just now signing up for William hill. Best way...   \n",
       "4  sportsbook                                          [removed]   \n",
       "\n",
       "                                               title  created_utc  \\\n",
       "0  Who’s Gonna Win ESL Pro League Season 13 Group D?   1617032962   \n",
       "1  Quick Elite Eight thoughts (somewhat based on ...   1617032362   \n",
       "2  Draft Kings $1M March Madness Survivor Pool: E...   1617031975   \n",
       "3                                         WH Sign Up   1617030894   \n",
       "4                 Arnold Schwarzenegger Bodybuilding   1617030794   \n",
       "\n",
       "               author                                          permalink  \\\n",
       "0            Tygar1no  /r/sportsbook/comments/mfshhd/whos_gonna_win_e...   \n",
       "1              nez477  /r/sportsbook/comments/mfs9uu/quick_elite_eigh...   \n",
       "2  theGOATbogeygolfer  /r/sportsbook/comments/mfs52s/draft_kings_1m_m...   \n",
       "3    jordanmarentette          /r/sportsbook/comments/mfrr0w/wh_sign_up/   \n",
       "4        darekgraczyk  /r/sportsbook/comments/mfrpoi/arnold_schwarzen...   \n",
       "\n",
       "                                    submission_title  \n",
       "0    whos_gonna_win_esl_pro_league_season_13_group_d  \n",
       "1       quick_elite_eight_thoughts_somewhat_based_on  \n",
       "2  draft_kings_1m_march_madness_survivor_pool_eli...  \n",
       "3                                         wh_sign_up  \n",
       "4                 arnold_schwarzenegger_bodybuilding  "
      ]
     },
     "execution_count": 14,
     "metadata": {},
     "output_type": "execute_result"
    }
   ],
   "source": [
    "df.head()"
   ]
  },
  {
   "cell_type": "code",
   "execution_count": null,
   "metadata": {},
   "outputs": [],
   "source": []
  },
  {
   "cell_type": "code",
   "execution_count": 27,
   "metadata": {},
   "outputs": [
    {
     "data": {
      "text/plain": [
       "{'all_awardings': [],\n",
       " 'associated_award': None,\n",
       " 'author': 'forbesqps',\n",
       " 'author_flair_background_color': None,\n",
       " 'author_flair_css_class': None,\n",
       " 'author_flair_richtext': [],\n",
       " 'author_flair_template_id': None,\n",
       " 'author_flair_text': None,\n",
       " 'author_flair_text_color': None,\n",
       " 'author_flair_type': 'text',\n",
       " 'author_fullname': 't2_jga06',\n",
       " 'author_patreon_flair': False,\n",
       " 'author_premium': False,\n",
       " 'awarders': [],\n",
       " 'body': \"Get em' Michigan! They say to bet with your heart, not your head.. or is it the other way around?!  Max bet. Go Blue!\",\n",
       " 'collapsed_because_crowd_control': None,\n",
       " 'comment_type': None,\n",
       " 'created_utc': 1616964349,\n",
       " 'gildings': {},\n",
       " 'id': 'gsm86tr',\n",
       " 'is_submitter': False,\n",
       " 'link_id': 't3_meso47',\n",
       " 'locked': False,\n",
       " 'no_follow': True,\n",
       " 'parent_id': 't3_meso47',\n",
       " 'permalink': '/r/sportsbook/comments/meso47/ncaabb_daily_discussion_32821_sunday/gsm86tr/',\n",
       " 'retrieved_on': 1616964360,\n",
       " 'score': 1,\n",
       " 'send_replies': True,\n",
       " 'stickied': False,\n",
       " 'subreddit': 'sportsbook',\n",
       " 'subreddit_id': 't5_2s3v4',\n",
       " 'top_awarded_type': None,\n",
       " 'total_awards_received': 0,\n",
       " 'treatment_tags': []}"
      ]
     },
     "execution_count": 27,
     "metadata": {},
     "output_type": "execute_result"
    }
   ],
   "source": [
    "posts[0]"
   ]
  }
 ],
 "metadata": {
  "kernelspec": {
   "display_name": "Python 3",
   "language": "python",
   "name": "python3"
  },
  "language_info": {
   "codemirror_mode": {
    "name": "ipython",
    "version": 3
   },
   "file_extension": ".py",
   "mimetype": "text/x-python",
   "name": "python",
   "nbconvert_exporter": "python",
   "pygments_lexer": "ipython3",
   "version": "3.8.5"
  }
 },
 "nbformat": 4,
 "nbformat_minor": 4
}
