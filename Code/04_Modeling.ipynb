{
 "cells": [
  {
   "cell_type": "markdown",
   "metadata": {},
   "source": [
    "First attempt at modeling with data set after inital EDA."
   ]
  },
  {
   "cell_type": "code",
   "execution_count": 1,
   "metadata": {},
   "outputs": [],
   "source": [
    "# imports - basic\n",
    "import pandas as pd\n",
    "import numpy as np\n",
    "import matplotlib.pyplot as plt\n",
    "import seaborn as sns\n",
    "\n",
    "# imports modeling\n",
    "from sklearn.feature_extraction.text import CountVectorizer, TfidfVectorizer\n",
    "from sklearn.linear_model import LogisticRegression\n",
    "from sklearn.model_selection import train_test_split, cross_val_score\n",
    "from sklearn.metrics import confusion_matrix, ConfusionMatrixDisplay, accuracy_score"
   ]
  },
  {
   "cell_type": "code",
   "execution_count": 2,
   "metadata": {},
   "outputs": [],
   "source": [
    "# read in EDA cleaned file\n",
    "df = pd.read_csv('../CommentFiles/Comments_EDA_Final.csv')"
   ]
  },
  {
   "cell_type": "code",
   "execution_count": 3,
   "metadata": {},
   "outputs": [
    {
     "data": {
      "text/html": [
       "<div>\n",
       "<style scoped>\n",
       "    .dataframe tbody tr th:only-of-type {\n",
       "        vertical-align: middle;\n",
       "    }\n",
       "\n",
       "    .dataframe tbody tr th {\n",
       "        vertical-align: top;\n",
       "    }\n",
       "\n",
       "    .dataframe thead th {\n",
       "        text-align: right;\n",
       "    }\n",
       "</style>\n",
       "<table border=\"1\" class=\"dataframe\">\n",
       "  <thead>\n",
       "    <tr style=\"text-align: right;\">\n",
       "      <th></th>\n",
       "      <th>subreddit</th>\n",
       "      <th>body</th>\n",
       "      <th>created_utc</th>\n",
       "      <th>author</th>\n",
       "      <th>submission_title</th>\n",
       "    </tr>\n",
       "  </thead>\n",
       "  <tbody>\n",
       "    <tr>\n",
       "      <th>0</th>\n",
       "      <td>sportsbook</td>\n",
       "      <td>fuck it, o64.5 1H</td>\n",
       "      <td>1616963381</td>\n",
       "      <td>dummyacct321</td>\n",
       "      <td>ncaabb_daily_discussion_32821_sunday</td>\n",
       "    </tr>\n",
       "    <tr>\n",
       "      <th>1</th>\n",
       "      <td>sportsbook</td>\n",
       "      <td>Look at this</td>\n",
       "      <td>1616963365</td>\n",
       "      <td>jtcarl</td>\n",
       "      <td>2021_mlb_betting_primer</td>\n",
       "    </tr>\n",
       "    <tr>\n",
       "      <th>2</th>\n",
       "      <td>sportsbook</td>\n",
       "      <td>Toronto been baiting everyone all week, I’m st...</td>\n",
       "      <td>1616963335</td>\n",
       "      <td>hoooesay</td>\n",
       "      <td>nba_daily_discussion_32821_sunday</td>\n",
       "    </tr>\n",
       "    <tr>\n",
       "      <th>3</th>\n",
       "      <td>sportsbook</td>\n",
       "      <td>Fuck Michigan but today they make me money so ...</td>\n",
       "      <td>1616963310</td>\n",
       "      <td>Dont_Carry_it_All</td>\n",
       "      <td>ncaabb_daily_discussion_32821_sunday</td>\n",
       "    </tr>\n",
       "    <tr>\n",
       "      <th>4</th>\n",
       "      <td>sportsbook</td>\n",
       "      <td>\"follow if you feel like it\"</td>\n",
       "      <td>1616963299</td>\n",
       "      <td>Feardamoo</td>\n",
       "      <td>which_is_the_worst_trend_on_sportsbook</td>\n",
       "    </tr>\n",
       "  </tbody>\n",
       "</table>\n",
       "</div>"
      ],
      "text/plain": [
       "    subreddit                                               body  created_utc  \\\n",
       "0  sportsbook                                  fuck it, o64.5 1H   1616963381   \n",
       "1  sportsbook                                       Look at this   1616963365   \n",
       "2  sportsbook  Toronto been baiting everyone all week, I’m st...   1616963335   \n",
       "3  sportsbook  Fuck Michigan but today they make me money so ...   1616963310   \n",
       "4  sportsbook                       \"follow if you feel like it\"   1616963299   \n",
       "\n",
       "              author                        submission_title  \n",
       "0       dummyacct321    ncaabb_daily_discussion_32821_sunday  \n",
       "1             jtcarl                 2021_mlb_betting_primer  \n",
       "2           hoooesay       nba_daily_discussion_32821_sunday  \n",
       "3  Dont_Carry_it_All    ncaabb_daily_discussion_32821_sunday  \n",
       "4          Feardamoo  which_is_the_worst_trend_on_sportsbook  "
      ]
     },
     "execution_count": 3,
     "metadata": {},
     "output_type": "execute_result"
    }
   ],
   "source": [
    "# check dataframe\n",
    "df.head()"
   ]
  },
  {
   "cell_type": "code",
   "execution_count": 4,
   "metadata": {},
   "outputs": [
    {
     "data": {
      "text/plain": [
       "dfsports      0.501993\n",
       "sportsbook    0.498007\n",
       "Name: subreddit, dtype: float64"
      ]
     },
     "execution_count": 4,
     "metadata": {},
     "output_type": "execute_result"
    }
   ],
   "source": [
    "# check classes\n",
    "df['subreddit'].value_counts(normalize=True)"
   ]
  },
  {
   "cell_type": "markdown",
   "metadata": {},
   "source": [
    "## Note: \n",
    "Dataframe looks like it is ready to model, classes are still 50/50 split.\n",
    "Steps in modeling process:\n",
    "1. Convert subreddit into binary labels.\n",
    "2. Set up X, y variables and split the data into training and testing sets.\n",
    "3. Pre-processing, use countvectorizer to convert text data into structed, numeric X dataframe.\n",
    "4. Fit and tranform the vectorized text.\n",
    "5. Check for top occuring words and continue some EDA.\n",
    "6. Create stop words list.\n",
    "7. Model using logistic regression."
   ]
  },
  {
   "cell_type": "code",
   "execution_count": 5,
   "metadata": {},
   "outputs": [],
   "source": [
    "# convert subreddit into binary labels\n",
    "df['subreddit'] = df['subreddit'].map({'sportsbook': 1, 'dfsports': 0})"
   ]
  },
  {
   "cell_type": "code",
   "execution_count": 6,
   "metadata": {},
   "outputs": [
    {
     "data": {
      "text/html": [
       "<div>\n",
       "<style scoped>\n",
       "    .dataframe tbody tr th:only-of-type {\n",
       "        vertical-align: middle;\n",
       "    }\n",
       "\n",
       "    .dataframe tbody tr th {\n",
       "        vertical-align: top;\n",
       "    }\n",
       "\n",
       "    .dataframe thead th {\n",
       "        text-align: right;\n",
       "    }\n",
       "</style>\n",
       "<table border=\"1\" class=\"dataframe\">\n",
       "  <thead>\n",
       "    <tr style=\"text-align: right;\">\n",
       "      <th></th>\n",
       "      <th>subreddit</th>\n",
       "      <th>body</th>\n",
       "      <th>created_utc</th>\n",
       "      <th>author</th>\n",
       "      <th>submission_title</th>\n",
       "    </tr>\n",
       "  </thead>\n",
       "  <tbody>\n",
       "    <tr>\n",
       "      <th>0</th>\n",
       "      <td>1</td>\n",
       "      <td>fuck it, o64.5 1H</td>\n",
       "      <td>1616963381</td>\n",
       "      <td>dummyacct321</td>\n",
       "      <td>ncaabb_daily_discussion_32821_sunday</td>\n",
       "    </tr>\n",
       "    <tr>\n",
       "      <th>1</th>\n",
       "      <td>1</td>\n",
       "      <td>Look at this</td>\n",
       "      <td>1616963365</td>\n",
       "      <td>jtcarl</td>\n",
       "      <td>2021_mlb_betting_primer</td>\n",
       "    </tr>\n",
       "    <tr>\n",
       "      <th>2</th>\n",
       "      <td>1</td>\n",
       "      <td>Toronto been baiting everyone all week, I’m st...</td>\n",
       "      <td>1616963335</td>\n",
       "      <td>hoooesay</td>\n",
       "      <td>nba_daily_discussion_32821_sunday</td>\n",
       "    </tr>\n",
       "    <tr>\n",
       "      <th>3</th>\n",
       "      <td>1</td>\n",
       "      <td>Fuck Michigan but today they make me money so ...</td>\n",
       "      <td>1616963310</td>\n",
       "      <td>Dont_Carry_it_All</td>\n",
       "      <td>ncaabb_daily_discussion_32821_sunday</td>\n",
       "    </tr>\n",
       "    <tr>\n",
       "      <th>4</th>\n",
       "      <td>1</td>\n",
       "      <td>\"follow if you feel like it\"</td>\n",
       "      <td>1616963299</td>\n",
       "      <td>Feardamoo</td>\n",
       "      <td>which_is_the_worst_trend_on_sportsbook</td>\n",
       "    </tr>\n",
       "  </tbody>\n",
       "</table>\n",
       "</div>"
      ],
      "text/plain": [
       "   subreddit                                               body  created_utc  \\\n",
       "0          1                                  fuck it, o64.5 1H   1616963381   \n",
       "1          1                                       Look at this   1616963365   \n",
       "2          1  Toronto been baiting everyone all week, I’m st...   1616963335   \n",
       "3          1  Fuck Michigan but today they make me money so ...   1616963310   \n",
       "4          1                       \"follow if you feel like it\"   1616963299   \n",
       "\n",
       "              author                        submission_title  \n",
       "0       dummyacct321    ncaabb_daily_discussion_32821_sunday  \n",
       "1             jtcarl                 2021_mlb_betting_primer  \n",
       "2           hoooesay       nba_daily_discussion_32821_sunday  \n",
       "3  Dont_Carry_it_All    ncaabb_daily_discussion_32821_sunday  \n",
       "4          Feardamoo  which_is_the_worst_trend_on_sportsbook  "
      ]
     },
     "execution_count": 6,
     "metadata": {},
     "output_type": "execute_result"
    }
   ],
   "source": [
    "# double check with head\n",
    "df.head()"
   ]
  },
  {
   "cell_type": "code",
   "execution_count": 7,
   "metadata": {},
   "outputs": [],
   "source": [
    "# set X and y variables\n",
    "X = df['body']\n",
    "y = df['subreddit']"
   ]
  },
  {
   "cell_type": "code",
   "execution_count": 8,
   "metadata": {},
   "outputs": [],
   "source": [
    "#TTS\n",
    "X_train, X_test, y_train, y_test = train_test_split(X,y)"
   ]
  },
  {
   "cell_type": "code",
   "execution_count": 9,
   "metadata": {},
   "outputs": [],
   "source": [
    "# Instantiate CountVectorizer\n",
    "cvec = CountVectorizer()"
   ]
  },
  {
   "cell_type": "code",
   "execution_count": 10,
   "metadata": {},
   "outputs": [],
   "source": [
    "# Fit and transform data sets\n",
    "X_train_cvec = cvec.fit_transform(X_train)"
   ]
  },
  {
   "cell_type": "code",
   "execution_count": 11,
   "metadata": {},
   "outputs": [],
   "source": [
    "# transform test data\n",
    "X_test_cvec = cvec.transform(X_test)"
   ]
  },
  {
   "cell_type": "code",
   "execution_count": 12,
   "metadata": {},
   "outputs": [
    {
     "data": {
      "image/png": "[encoded data removed]",
      "text/plain": [
       "<Figure size 432x288 with 1 Axes>"
      ]
     },
     "metadata": {
      "needs_background": "light"
     },
     "output_type": "display_data"
    }
   ],
   "source": [
    "# check for top occuring words\n",
    "# convert X_train to df\n",
    "X_train_df = pd.DataFrame(X_train_cvec.todense(), columns=cvec.get_feature_names())\n",
    "# plot top occuring words; top 20\n",
    "X_train_df.sum().sort_values(ascending=False).head(20).plot(kind='barh');"
   ]
  },
  {
   "cell_type": "markdown",
   "metadata": {},
   "source": [
    "## Annotation:\n",
    "Top 20 occurring words seems to be very common words, found in sklearn's stopwords. From here I will reinstantiate count vectorizer with english stop words as stop words."
   ]
  },
  {
   "cell_type": "code",
   "execution_count": 13,
   "metadata": {},
   "outputs": [],
   "source": [
    "# reinstantiate countvectorizer\n",
    "cvec = CountVectorizer(stop_words='english')"
   ]
  },
  {
   "cell_type": "code",
   "execution_count": 14,
   "metadata": {},
   "outputs": [],
   "source": [
    "# Fit and transform data sets\n",
    "X_train_cvec = cvec.fit_transform(X_train)"
   ]
  },
  {
   "cell_type": "code",
   "execution_count": 15,
   "metadata": {},
   "outputs": [],
   "source": [
    "# transform test data\n",
    "X_test_cvec = cvec.transform(X_test)"
   ]
  },
  {
   "cell_type": "code",
   "execution_count": 16,
   "metadata": {},
   "outputs": [
    {
     "data": {
      "image/png": "[encoded data removed]",
      "text/plain": [
       "<Figure size 432x288 with 1 Axes>"
      ]
     },
     "metadata": {
      "needs_background": "light"
     },
     "output_type": "display_data"
    }
   ],
   "source": [
    "# check for top occuring words\n",
    "# convert X_train to df\n",
    "X_train_df = pd.DataFrame(X_train_cvec.todense(), columns=cvec.get_feature_names())\n",
    "# plot top occuring words; top 20\n",
    "X_train_df.sum().sort_values(ascending=False).head(25).plot(kind='barh');"
   ]
  },
  {
   "cell_type": "markdown",
   "metadata": {},
   "source": [
    "### Need additional cleaning; https is in top 25.  Need to take out links and lol."
   ]
  },
  {
   "cell_type": "code",
   "execution_count": 17,
   "metadata": {},
   "outputs": [],
   "source": [
    "# model using logistic regression\n",
    "logreg = LogisticRegression()"
   ]
  },
  {
   "cell_type": "code",
   "execution_count": 18,
   "metadata": {},
   "outputs": [
    {
     "data": {
      "text/plain": [
       "LogisticRegression()"
      ]
     },
     "execution_count": 18,
     "metadata": {},
     "output_type": "execute_result"
    }
   ],
   "source": [
    "# fit model to countvectorized data sets\n",
    "logreg.fit(X_train_cvec, y_train)"
   ]
  },
  {
   "cell_type": "code",
   "execution_count": 19,
   "metadata": {},
   "outputs": [
    {
     "name": "stdout",
     "output_type": "stream",
     "text": [
      "Train Score:  0.953656462585034\n",
      "Test Score :  0.8215423836838751\n"
     ]
    }
   ],
   "source": [
    "# score train and test\n",
    "print('Train Score: ', logreg.score(X_train_cvec, y_train))\n",
    "print('Test Score : ', logreg.score(X_test_cvec, y_test))"
   ]
  },
  {
   "cell_type": "markdown",
   "metadata": {},
   "source": [
    "## Annotation:\n",
    "Fairly good train score, but significantly higher than testing score.  Seems to be overfit at first glance.  Will use cross validation and confusion matrix as further indicates of models effectiveness."
   ]
  },
  {
   "cell_type": "code",
   "execution_count": 20,
   "metadata": {},
   "outputs": [
    {
     "data": {
      "text/plain": [
       "0.8254683790444751"
      ]
     },
     "execution_count": 20,
     "metadata": {},
     "output_type": "execute_result"
    }
   ],
   "source": [
    "# cross val score\n",
    "cross_val_score(logreg, X_train_cvec, y_train, cv=5).mean()"
   ]
  },
  {
   "cell_type": "code",
   "execution_count": 21,
   "metadata": {},
   "outputs": [
    {
     "data": {
      "text/plain": [
       "0.8215423836838751"
      ]
     },
     "execution_count": 21,
     "metadata": {},
     "output_type": "execute_result"
    }
   ],
   "source": [
    "# accuracy score\n",
    "y_preds = logreg.predict(X_test_cvec)\n",
    "accuracy_score(y_test, y_preds)"
   ]
  },
  {
   "cell_type": "code",
   "execution_count": 22,
   "metadata": {},
   "outputs": [
    {
     "data": {
      "image/png": "[encoded data removed]",
      "text/plain": [
       "<Figure size 432x288 with 2 Axes>"
      ]
     },
     "metadata": {
      "needs_background": "light"
     },
     "output_type": "display_data"
    }
   ],
   "source": [
    "# confusion matrix, to plot and set values for further calculations\n",
    "cm = confusion_matrix(y_test, y_preds)\n",
    "tn, fp, fn, tp = cm.ravel()\n",
    "ConfusionMatrixDisplay(cm, display_labels=['sportsbook', 'dfsports']).plot();"
   ]
  },
  {
   "cell_type": "code",
   "execution_count": 23,
   "metadata": {},
   "outputs": [
    {
     "data": {
      "text/plain": [
       "0.8662576687116564"
      ]
     },
     "execution_count": 23,
     "metadata": {},
     "output_type": "execute_result"
    }
   ],
   "source": [
    "# calculate the specificity, ability to pick true negatives\n",
    "spec = tp/(tp+fn)\n",
    "spec"
   ]
  },
  {
   "cell_type": "code",
   "execution_count": 24,
   "metadata": {},
   "outputs": [
    {
     "data": {
      "text/plain": [
       "0.773209549071618"
      ]
     },
     "execution_count": 24,
     "metadata": {},
     "output_type": "execute_result"
    }
   ],
   "source": [
    "# calculate sensitivity, ability to pick out true positives\n",
    "sens = tn/(tn+fp)\n",
    "sens"
   ]
  },
  {
   "cell_type": "markdown",
   "metadata": {},
   "source": [
    "Print classification report."
   ]
  },
  {
   "cell_type": "code",
   "execution_count": 25,
   "metadata": {},
   "outputs": [],
   "source": [
    "from sklearn.metrics import classification_report"
   ]
  },
  {
   "cell_type": "code",
   "execution_count": 26,
   "metadata": {},
   "outputs": [
    {
     "name": "stdout",
     "output_type": "stream",
     "text": [
      "              precision    recall  f1-score   support\n",
      "\n",
      "           0       0.84      0.77      0.81       754\n",
      "           1       0.81      0.87      0.83       815\n",
      "\n",
      "    accuracy                           0.82      1569\n",
      "   macro avg       0.82      0.82      0.82      1569\n",
      "weighted avg       0.82      0.82      0.82      1569\n",
      "\n"
     ]
    }
   ],
   "source": [
    "print(classification_report(y_test, y_preds))"
   ]
  },
  {
   "cell_type": "code",
   "execution_count": 27,
   "metadata": {},
   "outputs": [],
   "source": [
    "coef_df = pd.DataFrame(index=cvec.get_feature_names(), data=logreg.coef_[0], columns=['Coefficient Value'])"
   ]
  },
  {
   "cell_type": "code",
   "execution_count": 28,
   "metadata": {},
   "outputs": [],
   "source": [
    "coef_df.sort_values(by='Coefficient Value', inplace=True)"
   ]
  },
  {
   "cell_type": "code",
   "execution_count": 29,
   "metadata": {},
   "outputs": [
    {
     "data": {
      "text/html": [
       "<div>\n",
       "<style scoped>\n",
       "    .dataframe tbody tr th:only-of-type {\n",
       "        vertical-align: middle;\n",
       "    }\n",
       "\n",
       "    .dataframe tbody tr th {\n",
       "        vertical-align: top;\n",
       "    }\n",
       "\n",
       "    .dataframe thead th {\n",
       "        text-align: right;\n",
       "    }\n",
       "</style>\n",
       "<table border=\"1\" class=\"dataframe\">\n",
       "  <thead>\n",
       "    <tr style=\"text-align: right;\">\n",
       "      <th></th>\n",
       "      <th>Coefficient Value</th>\n",
       "    </tr>\n",
       "  </thead>\n",
       "  <tbody>\n",
       "    <tr>\n",
       "      <th>forwards</th>\n",
       "      <td>-2.678813</td>\n",
       "    </tr>\n",
       "    <tr>\n",
       "      <th>dfs</th>\n",
       "      <td>-2.647910</td>\n",
       "    </tr>\n",
       "    <tr>\n",
       "      <th>lineup</th>\n",
       "      <td>-2.568887</td>\n",
       "    </tr>\n",
       "    <tr>\n",
       "      <th>guards</th>\n",
       "      <td>-2.561716</td>\n",
       "    </tr>\n",
       "    <tr>\n",
       "      <th>center</th>\n",
       "      <td>-2.350453</td>\n",
       "    </tr>\n",
       "    <tr>\n",
       "      <th>lineups</th>\n",
       "      <td>-2.197801</td>\n",
       "    </tr>\n",
       "    <tr>\n",
       "      <th>entry</th>\n",
       "      <td>-1.635295</td>\n",
       "    </tr>\n",
       "    <tr>\n",
       "      <th>slate</th>\n",
       "      <td>-1.601113</td>\n",
       "    </tr>\n",
       "    <tr>\n",
       "      <th>congratulations</th>\n",
       "      <td>-1.553072</td>\n",
       "    </tr>\n",
       "    <tr>\n",
       "      <th>price</th>\n",
       "      <td>-1.551906</td>\n",
       "    </tr>\n",
       "  </tbody>\n",
       "</table>\n",
       "</div>"
      ],
      "text/plain": [
       "                 Coefficient Value\n",
       "forwards                 -2.678813\n",
       "dfs                      -2.647910\n",
       "lineup                   -2.568887\n",
       "guards                   -2.561716\n",
       "center                   -2.350453\n",
       "lineups                  -2.197801\n",
       "entry                    -1.635295\n",
       "slate                    -1.601113\n",
       "congratulations          -1.553072\n",
       "price                    -1.551906"
      ]
     },
     "execution_count": 29,
     "metadata": {},
     "output_type": "execute_result"
    }
   ],
   "source": [
    "coef_df.head(10)"
   ]
  },
  {
   "cell_type": "code",
   "execution_count": 30,
   "metadata": {},
   "outputs": [
    {
     "data": {
      "text/html": [
       "<div>\n",
       "<style scoped>\n",
       "    .dataframe tbody tr th:only-of-type {\n",
       "        vertical-align: middle;\n",
       "    }\n",
       "\n",
       "    .dataframe tbody tr th {\n",
       "        vertical-align: top;\n",
       "    }\n",
       "\n",
       "    .dataframe thead th {\n",
       "        text-align: right;\n",
       "    }\n",
       "</style>\n",
       "<table border=\"1\" class=\"dataframe\">\n",
       "  <thead>\n",
       "    <tr style=\"text-align: right;\">\n",
       "      <th></th>\n",
       "      <th>Coefficient Value</th>\n",
       "    </tr>\n",
       "  </thead>\n",
       "  <tbody>\n",
       "    <tr>\n",
       "      <th>woodley</th>\n",
       "      <td>1.562708</td>\n",
       "    </tr>\n",
       "    <tr>\n",
       "      <th>michigan</th>\n",
       "      <td>1.565935</td>\n",
       "    </tr>\n",
       "    <tr>\n",
       "      <th>tailing</th>\n",
       "      <td>1.682742</td>\n",
       "    </tr>\n",
       "    <tr>\n",
       "      <th>houston</th>\n",
       "      <td>1.735475</td>\n",
       "    </tr>\n",
       "    <tr>\n",
       "      <th>ngannou</th>\n",
       "      <td>1.841676</td>\n",
       "    </tr>\n",
       "    <tr>\n",
       "      <th>cuse</th>\n",
       "      <td>1.874421</td>\n",
       "    </tr>\n",
       "    <tr>\n",
       "      <th>stipe</th>\n",
       "      <td>1.895651</td>\n",
       "    </tr>\n",
       "    <tr>\n",
       "      <th>gonzaga</th>\n",
       "      <td>1.913044</td>\n",
       "    </tr>\n",
       "    <tr>\n",
       "      <th>creighton</th>\n",
       "      <td>2.031271</td>\n",
       "    </tr>\n",
       "    <tr>\n",
       "      <th>ml</th>\n",
       "      <td>2.055208</td>\n",
       "    </tr>\n",
       "  </tbody>\n",
       "</table>\n",
       "</div>"
      ],
      "text/plain": [
       "           Coefficient Value\n",
       "woodley             1.562708\n",
       "michigan            1.565935\n",
       "tailing             1.682742\n",
       "houston             1.735475\n",
       "ngannou             1.841676\n",
       "cuse                1.874421\n",
       "stipe               1.895651\n",
       "gonzaga             1.913044\n",
       "creighton           2.031271\n",
       "ml                  2.055208"
      ]
     },
     "execution_count": 30,
     "metadata": {},
     "output_type": "execute_result"
    }
   ],
   "source": [
    "coef_df.tail(10)"
   ]
  },
  {
   "cell_type": "markdown",
   "metadata": {},
   "source": [
    "# Interpretation: "
   ]
  },
  {
   "cell_type": "markdown",
   "metadata": {},
   "source": [
    "As mentioned before the training score was a fairly good score but slightly overfit when compared to the testing set.  This was confirmed by the cross validation, as data was taken out of the training set and treated as testing data the score was lower and closer to the testing score.  \n",
    "\n",
    "The accuracy score was fair but further investigation is shown with the confustion matrix.  The matrix shows us that there are many errors in the predictions and the ability to pick sportsbook correctly was better then our ability to pick sportsbook, which is shown in the specificity and sensitivity.\n",
    "\n",
    "This is a good base line model to start with, but improvements are needed.  To start a more detailed investigation of the words in text is needed and the creation of a specific stop words list is needed.  This is needed to understand the text in each subreddit's comments.  \n",
    "\n",
    "The model will need to be improved once the text is evaluated further.  Gridsearch will be used to test hyperparameters  of count vectorizer and possibilibly TF-IDF; with different estimators like random forest and support vector machines."
   ]
  }
 ],
 "metadata": {
  "kernelspec": {
   "display_name": "Python 3",
   "language": "python",
   "name": "python3"
  },
  "language_info": {
   "codemirror_mode": {
    "name": "ipython",
    "version": 3
   },
   "file_extension": ".py",
   "mimetype": "text/x-python",
   "name": "python",
   "nbconvert_exporter": "python",
   "pygments_lexer": "ipython3",
   "version": "3.8.5"
  }
 },
 "nbformat": 4,
 "nbformat_minor": 4
}
