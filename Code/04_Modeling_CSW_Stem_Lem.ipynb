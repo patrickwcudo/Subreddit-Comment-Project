{
 "cells": [
  {
   "cell_type": "markdown",
   "metadata": {},
   "source": [
    "This notebook will take the each stem and lemmatized data set; countvectorize and tf-idf then run through logistic regression model."
   ]
  },
  {
   "cell_type": "code",
   "execution_count": 5,
   "metadata": {},
   "outputs": [],
   "source": [
    "# imports - basic\n",
    "import pandas as pd\n",
    "import numpy as np\n",
    "import matplotlib.pyplot as plt\n",
    "import seaborn as sns\n",
    "\n",
    "# imports modeling\n",
    "from sklearn.feature_extraction.text import CountVectorizer, TfidfVectorizer\n",
    "from sklearn.linear_model import LogisticRegression\n",
    "from sklearn.model_selection import train_test_split, cross_val_score\n",
    "from sklearn.metrics import confusion_matrix, ConfusionMatrixDisplay, accuracy_score, classification_report\n",
    "# import custom stop words\n",
    "from customstopwords import custom_stop_words_all"
   ]
  },
  {
   "cell_type": "code",
   "execution_count": 3,
   "metadata": {},
   "outputs": [],
   "source": [
    "# read in data files\n",
    "df_lem = pd.read_csv('../CommentFiles/Comments_EDA_lem.csv')\n",
    "df_stem = pd.read_csv('../CommentFiles/Comments_EDA_stem.csv')"
   ]
  },
  {
   "cell_type": "code",
   "execution_count": 4,
   "metadata": {},
   "outputs": [],
   "source": [
    "# convert subreddit into binary labels\n",
    "df_lem['subreddit'] = df_lem['subreddit'].map({'sportsbook': 1, 'dfsports': 0})\n",
    "# convert subreddit into binary labels\n",
    "df_stem['subreddit'] = df_stem['subreddit'].map({'sportsbook': 1, 'dfsports': 0})"
   ]
  },
  {
   "cell_type": "markdown",
   "metadata": {},
   "source": [
    "Hidden cells are functions that output scores and reports for label data sets and transformers."
   ]
  },
  {
   "cell_type": "code",
   "execution_count": 45,
   "metadata": {
    "jupyter": {
     "source_hidden": true
    }
   },
   "outputs": [],
   "source": [
    "# create function to transform and classify \n",
    "def transform_classify_cvec(df, name):\n",
    "\n",
    "    # set X , y\n",
    "    X = df['body']\n",
    "    y = df['subreddit']\n",
    "\n",
    "    #TTS\n",
    "    X_train, X_test, y_train, y_test = train_test_split(X,y)\n",
    "\n",
    "    # Instantiate CountVectorizer\n",
    "    cvec = CountVectorizer(stop_words=custom_stop_words_all)\n",
    "\n",
    "    # Fit and transform data sets\n",
    "    X_train_cvec = cvec.fit_transform(X_train.astype(str))\n",
    "    # transform test data\n",
    "    X_test_cvec = cvec.transform(X_test.astype(str))\n",
    "\n",
    "    # model using logistic regression\n",
    "    logreg = LogisticRegression()\n",
    "\n",
    "    # fit model to countvectorized data sets\n",
    "    logreg.fit(X_train_cvec, y_train)\n",
    "\n",
    "    # print scores and metrics\n",
    "    # score train and test\n",
    "    print(name)\n",
    "    print('')\n",
    "    print('Train Score    : ', logreg.score(X_train_cvec, y_train))\n",
    "    print('Test Score     : ', logreg.score(X_test_cvec, y_test))\n",
    "    print('Cross Val Score: ', cross_val_score(logreg, X_train_cvec, y_train, cv=5).mean())\n",
    "    print('Accuracy Score : ', accuracy_score(y_test, logreg.predict(X_test_cvec)))\n",
    "    print('')\n",
    "    # print and plot confusion matrix\n",
    "    cm = confusion_matrix(y_test, logreg.predict(X_test_cvec))\n",
    "    ConfusionMatrixDisplay(cm, display_labels=['sportsbook', 'dfsports']).plot();\n",
    "    print('')\n",
    "    # print classification report\n",
    "    print(classification_report(y_test, logreg.predict(X_test_cvec)))\n",
    "    pass"
   ]
  },
  {
   "cell_type": "code",
   "execution_count": 46,
   "metadata": {
    "jupyter": {
     "source_hidden": true
    }
   },
   "outputs": [],
   "source": [
    "# create function to transform and classify \n",
    "def transform_classify_tvec(df, name):\n",
    "\n",
    "    # set X , y\n",
    "    X = df['body']\n",
    "    y = df['subreddit']\n",
    "\n",
    "    #TTS\n",
    "    X_train, X_test, y_train, y_test = train_test_split(X,y)\n",
    "\n",
    "    # Instantiate CountVectorizer\n",
    "    tvec = TfidfVectorizer(stop_words=custom_stop_words_all)\n",
    "\n",
    "    # Fit and transform data sets\n",
    "    X_train_tvec = tvec.fit_transform(X_train.astype(str))\n",
    "    # transform test data\n",
    "    X_test_tvec = tvec.transform(X_test.astype(str))\n",
    "\n",
    "    # model using logistic regression\n",
    "    logreg = LogisticRegression()\n",
    "\n",
    "    # fit model to countvectorized data sets\n",
    "    logreg.fit(X_train_tvec, y_train)\n",
    "\n",
    "    # print scores and metrics\n",
    "    # score train and test\n",
    "    print(name)\n",
    "    print('')\n",
    "    print('Train Score    : ', logreg.score(X_train_tvec, y_train))\n",
    "    print('Test Score     : ', logreg.score(X_test_tvec, y_test))\n",
    "    print('Cross Val Score: ', cross_val_score(logreg, X_train_cvec, y_train, cv=5).mean())\n",
    "    print('Accuracy Score : ', accuracy_score(y_test, logreg.predict(X_test_tvec)))\n",
    "    print('')\n",
    "    # print and plot confusion matrix\n",
    "    cm = confusion_matrix(y_test, logreg.predict(X_test_tvec))\n",
    "    ConfusionMatrixDisplay(cm, display_labels=['sportsbook', 'dfsports']).plot();\n",
    "    print('')\n",
    "    # print classification report\n",
    "    print(classification_report(y_test, logreg.predict(X_test_tvec)))\n",
    "    pass"
   ]
  },
  {
   "cell_type": "code",
   "execution_count": 49,
   "metadata": {
    "jupyter": {
     "source_hidden": true
    }
   },
   "outputs": [
    {
     "name": "stdout",
     "output_type": "stream",
     "text": [
      "Lemmatized, CountVectorized\n",
      "\n",
      "Train Score    :  0.9483418367346939\n",
      "Test Score     :  0.8304652644996813\n",
      "Cross Val Score:  0.8227040043412395\n",
      "Accuracy Score :  0.8304652644996813\n",
      "\n",
      "\n",
      "              precision    recall  f1-score   support\n",
      "\n",
      "           0       0.86      0.79      0.82       777\n",
      "           1       0.81      0.87      0.84       792\n",
      "\n",
      "    accuracy                           0.83      1569\n",
      "   macro avg       0.83      0.83      0.83      1569\n",
      "weighted avg       0.83      0.83      0.83      1569\n",
      "\n"
     ]
    },
    {
     "data": {
      "image/png": "[encoded data removed]",
      "text/plain": [
       "<Figure size 432x288 with 2 Axes>"
      ]
     },
     "metadata": {
      "needs_background": "light"
     },
     "output_type": "display_data"
    }
   ],
   "source": [
    "transform_classify_cvec(df_lem, 'Lemmatized, CountVectorized')"
   ]
  },
  {
   "cell_type": "markdown",
   "metadata": {},
   "source": [
    "## Annotation:\n",
    "The lemmatized words and the addition of the stop words made little impact on the scores.  The testing score increased slightly and the training score decreased slightly closing the gap between the two.  \n",
    "Overall accuracy improved slightly; with and increase in sensitivity and decrease in specificity.  Still the model's effectiveness at predicting sportsbook correctly is less than overall accuracy."
   ]
  },
  {
   "cell_type": "code",
   "execution_count": 48,
   "metadata": {
    "jupyter": {
     "source_hidden": true
    }
   },
   "outputs": [
    {
     "name": "stdout",
     "output_type": "stream",
     "text": [
      "Lemmatized, TF-IDF\n",
      "\n",
      "Train Score    :  0.9298469387755102\n",
      "Test Score     :  0.8336520076481836\n",
      "Cross Val Score:  0.5163703167748208\n",
      "Accuracy Score :  0.8336520076481836\n",
      "\n",
      "\n",
      "              precision    recall  f1-score   support\n",
      "\n",
      "           0       0.85      0.81      0.83       790\n",
      "           1       0.82      0.86      0.84       779\n",
      "\n",
      "    accuracy                           0.83      1569\n",
      "   macro avg       0.83      0.83      0.83      1569\n",
      "weighted avg       0.83      0.83      0.83      1569\n",
      "\n"
     ]
    },
    {
     "data": {
      "image/png": "[encoded data removed]",
      "text/plain": [
       "<Figure size 432x288 with 2 Axes>"
      ]
     },
     "metadata": {
      "needs_background": "light"
     },
     "output_type": "display_data"
    }
   ],
   "source": [
    "transform_classify_tvec(df_lem, 'Lemmatized, TF-IDF')"
   ]
  },
  {
   "cell_type": "markdown",
   "metadata": {},
   "source": [
    "## Annotation:\n",
    "The TD-IDF tranformer did not return a better model.  Very similar scores to count vectorizer with logistic regression.  Going forward different estimators will be used and gridsearch to pick most effective parameters for these transformers."
   ]
  },
  {
   "cell_type": "code",
   "execution_count": 51,
   "metadata": {
    "jupyter": {
     "source_hidden": true
    }
   },
   "outputs": [
    {
     "name": "stdout",
     "output_type": "stream",
     "text": [
      "Stemed CountVectorize\n",
      "\n",
      "Train Score    :  0.9438775510204082\n",
      "Test Score     :  0.8483110261312938\n",
      "Cross Val Score:  0.8182388586157778\n",
      "Accuracy Score :  0.8483110261312938\n",
      "\n",
      "\n",
      "              precision    recall  f1-score   support\n",
      "\n",
      "           0       0.90      0.79      0.84       804\n",
      "           1       0.81      0.91      0.85       765\n",
      "\n",
      "    accuracy                           0.85      1569\n",
      "   macro avg       0.85      0.85      0.85      1569\n",
      "weighted avg       0.85      0.85      0.85      1569\n",
      "\n"
     ]
    },
    {
     "data": {
      "image/png": "[encoded data removed]",
      "text/plain": [
       "<Figure size 432x288 with 2 Axes>"
      ]
     },
     "metadata": {
      "needs_background": "light"
     },
     "output_type": "display_data"
    }
   ],
   "source": [
    "transform_classify_cvec(df_stem, 'Stemed CountVectorize')"
   ]
  },
  {
   "cell_type": "markdown",
   "metadata": {},
   "source": [
    "## Annotation:\n",
    "The stemmed words and the addition of the stop words made little impact on the scores.  The testing score increased slightly and the training score decreased slightly closing the gap between the two.  \n",
    "Overall accuracy improved slightly; with and increase in sensitivity and decrease in specificity.  Still the model's effectiveness at predicting sportsbook correctly is less than overall accuracy."
   ]
  },
  {
   "cell_type": "code",
   "execution_count": 52,
   "metadata": {
    "jupyter": {
     "source_hidden": true
    }
   },
   "outputs": [
    {
     "name": "stdout",
     "output_type": "stream",
     "text": [
      "Stemmed TF-IDF\n",
      "\n",
      "Train Score    :  0.9292091836734694\n",
      "Test Score     :  0.8406628425748884\n",
      "Cross Val Score:  0.5061607163045199\n",
      "Accuracy Score :  0.8406628425748884\n",
      "\n",
      "\n",
      "              precision    recall  f1-score   support\n",
      "\n",
      "           0       0.85      0.82      0.83       759\n",
      "           1       0.84      0.86      0.85       810\n",
      "\n",
      "    accuracy                           0.84      1569\n",
      "   macro avg       0.84      0.84      0.84      1569\n",
      "weighted avg       0.84      0.84      0.84      1569\n",
      "\n"
     ]
    },
    {
     "data": {
      "image/png": "[encoded data removed]",
      "text/plain": [
       "<Figure size 432x288 with 2 Axes>"
      ]
     },
     "metadata": {
      "needs_background": "light"
     },
     "output_type": "display_data"
    }
   ],
   "source": [
    "transform_classify_tvec(df_stem, 'Stemmed ')"
   ]
  },
  {
   "cell_type": "markdown",
   "metadata": {},
   "source": [
    "## Annotation:\n",
    "The TD-IDF tranformer did not return a better model.  Very similar scores to count vectorizer with logistic regression.  Going forward different estimators will be used and gridsearch to pick most effective parameters for these transformers."
   ]
  }
 ],
 "metadata": {
  "kernelspec": {
   "display_name": "Python 3",
   "language": "python",
   "name": "python3"
  },
  "language_info": {
   "codemirror_mode": {
    "name": "ipython",
    "version": 3
   },
   "file_extension": ".py",
   "mimetype": "text/x-python",
   "name": "python",
   "nbconvert_exporter": "python",
   "pygments_lexer": "ipython3",
   "version": "3.8.5"
  }
 },
 "nbformat": 4,
 "nbformat_minor": 4
}
