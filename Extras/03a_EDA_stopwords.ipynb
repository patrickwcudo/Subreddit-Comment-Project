{
 "cells": [
  {
   "cell_type": "markdown",
   "metadata": {},
   "source": [
    "Purpose of this notebook is to examine stop words."
   ]
  },
  {
   "cell_type": "code",
   "execution_count": 2,
   "metadata": {},
   "outputs": [],
   "source": [
    "# imports - basic\n",
    "import pandas as pd\n",
    "import numpy as np\n",
    "import matplotlib.pyplot as plt\n",
    "import seaborn as sns\n",
    "\n",
    "# imports modeling\n",
    "from sklearn.feature_extraction.text import CountVectorizer"
   ]
  },
  {
   "cell_type": "code",
   "execution_count": 3,
   "metadata": {},
   "outputs": [],
   "source": [
    "# read in EDA cleaned file\n",
    "df = pd.read_csv('../CommentFiles/Comments_EDA_Final.csv')"
   ]
  },
  {
   "cell_type": "code",
   "execution_count": 4,
   "metadata": {},
   "outputs": [
    {
     "data": {
      "text/plain": [
       "dfsports      0.501993\n",
       "sportsbook    0.498007\n",
       "Name: subreddit, dtype: float64"
      ]
     },
     "execution_count": 4,
     "metadata": {},
     "output_type": "execute_result"
    }
   ],
   "source": [
    "# check classes\n",
    "df['subreddit'].value_counts(normalize=True)"
   ]
  },
  {
   "cell_type": "code",
   "execution_count": 5,
   "metadata": {},
   "outputs": [],
   "source": [
    "# convert subreddit into binary labels\n",
    "df['subreddit'] = df['subreddit'].map({'sportsbook': 1, 'dfsports': 0})"
   ]
  },
  {
   "cell_type": "code",
   "execution_count": 6,
   "metadata": {},
   "outputs": [],
   "source": [
    "# Instantiate CountVectorizer\n",
    "cvec = CountVectorizer()"
   ]
  },
  {
   "cell_type": "code",
   "execution_count": 7,
   "metadata": {},
   "outputs": [],
   "source": [
    "# Fit and transform data sets\n",
    "body_cvec = cvec.fit_transform(df['body'])"
   ]
  },
  {
   "cell_type": "code",
   "execution_count": 8,
   "metadata": {},
   "outputs": [
    {
     "data": {
      "image/png": "[encoded data removed]",
      "text/plain": [
       "<Figure size 432x288 with 1 Axes>"
      ]
     },
     "metadata": {
      "needs_background": "light"
     },
     "output_type": "display_data"
    }
   ],
   "source": [
    "# check for top occuring words\n",
    "# convert X_train to df\n",
    "body_cvec_df = pd.DataFrame(body_cvec.todense(), columns=cvec.get_feature_names())\n",
    "# plot top occuring words; top 20\n",
    "body_cvec_df.sum().sort_values(ascending=False).head(20).plot(kind='barh');"
   ]
  },
  {
   "cell_type": "markdown",
   "metadata": {},
   "source": [
    "## Annotation:\n",
    "Top 20 occurring words seems to be very common words, found in sklearn's stopwords. From here I will create list of stop words to add to english stop words."
   ]
  },
  {
   "cell_type": "code",
   "execution_count": 9,
   "metadata": {},
   "outputs": [],
   "source": [
    "# Instantiate CountVectorizer\n",
    "cvec = CountVectorizer(stop_words='english')"
   ]
  },
  {
   "cell_type": "code",
   "execution_count": 10,
   "metadata": {},
   "outputs": [],
   "source": [
    "# Fit and transform data sets\n",
    "body_cvec = cvec.fit_transform(df['body'])"
   ]
  },
  {
   "cell_type": "code",
   "execution_count": 11,
   "metadata": {},
   "outputs": [
    {
     "data": {
      "image/png": "[encoded data removed]",
      "text/plain": [
       "<Figure size 432x288 with 1 Axes>"
      ]
     },
     "metadata": {
      "needs_background": "light"
     },
     "output_type": "display_data"
    }
   ],
   "source": [
    "# check for top occuring words\n",
    "# convert X_train to df\n",
    "body_cvec_df = pd.DataFrame(body_cvec.todense(), columns=cvec.get_feature_names())\n",
    "# plot top occuring words; top 20\n",
    "body_cvec_df.sum().sort_values(ascending=False).head(20).plot(kind='barh');"
   ]
  },
  {
   "cell_type": "markdown",
   "metadata": {},
   "source": [
    "Add https and lol to stop list with other common words.  \n",
    "https, lol, just, and like"
   ]
  },
  {
   "cell_type": "code",
   "execution_count": 12,
   "metadata": {
    "collapsed": true,
    "jupyter": {
     "outputs_hidden": true
    }
   },
   "outputs": [
    {
     "name": "stdout",
     "output_type": "stream",
     "text": [
      "frozenset({'cant', 'me', 'forty', 'them', 'describe', 'none', 'every', 'anyone', 'down', 'this', 'who', 'whom', 'are', 'nothing', 'twenty', 'whenever', 'seem', 'ever', 'amoungst', 'so', 'some', 'hasnt', 'too', 'hereby', 'sixty', 'her', 'do', 'yet', 'anyway', 'everywhere', 'get', 'next', 'to', 'with', 'made', 'four', 'thereby', 'whither', 'along', 'cry', 'through', 'were', 'well', 'de', 'back', 'within', 'besides', 'same', 'moreover', 'whereby', 'become', 'third', 'of', 'still', 'thereafter', 'they', 'his', 'eg', 'am', 'else', 'whereafter', 'at', 'sometimes', 'keep', 'first', 'only', 'thence', 'is', 'five', 'sincere', 'behind', 'had', 'indeed', 'where', 'whereupon', 'latter', 'has', 'once', 'amount', 'myself', 'somewhere', 'themselves', 'if', 'under', 'meanwhile', 'or', 'among', 'six', 'then', 'what', 'couldnt', 'from', 'enough', 'until', 'such', 'above', 'top', 'eleven', 'nor', 'while', 'should', 'fire', 'though', 'interest', 'beside', 'part', 'yourself', 'becoming', 'any', 'we', 'was', 'as', 'those', 'whatever', 'i', 're', 'already', 'without', 'towards', 'own', 'than', 'although', 'former', 'everyone', 'together', 'us', 'two', 'few', 'whoever', 'when', 'he', 'never', 'there', 'always', 'you', 'several', 'nine', 'thru', 'move', 'between', 'etc', 'perhaps', 'will', 'all', 'your', 'sometime', 'formerly', 'latterly', 'its', 'a', 'also', 'seemed', 'been', 'go', 'therein', 'much', 'many', 'less', 'namely', 'for', 'seems', 'how', 'someone', 'being', 'my', 'their', 'anything', 'be', 'nowhere', 'that', 'on', 'fifteen', 'something', 'thereupon', 'nobody', 'thick', 'put', 'upon', 'herein', 'otherwise', 'may', 'nevertheless', 'ourselves', 'therefore', 'by', 'during', 'hereafter', 'twelve', 'fifty', 'anywhere', 'show', 'and', 'thin', 'beyond', 'often', 'itself', 'take', 'both', 'see', 'wherein', 'against', 'bill', 'off', 'each', 'name', 'either', 'in', 'throughout', 'most', 'neither', 'can', 'con', 'could', 'inc', 'wherever', 'very', 'might', 'via', 'ten', 'cannot', 'it', 'why', 'ie', 'have', 'anyhow', 'three', 'everything', 'the', 'last', 'due', 'noone', 'would', 'ltd', 'serious', 'ours', 'mill', 'elsewhere', 'whence', 'after', 'front', 'yours', 'yourselves', 'beforehand', 'again', 'our', 'bottom', 'call', 'since', 'rather', 'done', 'before', 'seeming', 'himself', 'whole', 'somehow', 'amongst', 'except', 'here', 'detail', 'alone', 'mine', 'system', 'hereupon', 'hence', 'whereas', 'which', 'about', 'but', 'whether', 'onto', 'because', 'herself', 'below', 'thus', 'further', 'over', 'another', 'fill', 'up', 'around', 'however', 'becomes', 'out', 'she', 'more', 'these', 'side', 'no', 'found', 'full', 'not', 'even', 'across', 'toward', 'eight', 'find', 'almost', 'an', 'afterwards', 'other', 'co', 'him', 'into', 'least', 'hers', 'un', 'give', 'mostly', 'must', 'others', 'please', 'one', 'now', 'whose', 'hundred', 'empty', 'became', 'per'})\n"
     ]
    }
   ],
   "source": [
    "# print english stop words to get list\n",
    "print(CountVectorizer(stop_words='english').get_stop_words())"
   ]
  },
  {
   "cell_type": "code",
   "execution_count": 13,
   "metadata": {},
   "outputs": [],
   "source": [
    "# create custom stop words list to add custom words to from english stop words\n",
    "custom_stop_words = []\n",
    "for word in CountVectorizer(stop_words='english').get_stop_words():\n",
    "    custom_stop_words.append(word)"
   ]
  },
  {
   "cell_type": "code",
   "execution_count": 14,
   "metadata": {},
   "outputs": [],
   "source": [
    "# Instantiate CountVectorizer\n",
    "cvec = CountVectorizer(stop_words=custom_stop_words)"
   ]
  },
  {
   "cell_type": "code",
   "execution_count": 15,
   "metadata": {},
   "outputs": [],
   "source": [
    "# Fit and transform data sets\n",
    "body_cvec = cvec.fit_transform(df['body'])"
   ]
  },
  {
   "cell_type": "code",
   "execution_count": 16,
   "metadata": {},
   "outputs": [
    {
     "data": {
      "image/png": "[encoded data removed]",
      "text/plain": [
       "<Figure size 720x720 with 1 Axes>"
      ]
     },
     "metadata": {
      "needs_background": "light"
     },
     "output_type": "display_data"
    }
   ],
   "source": [
    "# check for top occuring words without stop words\n",
    "body_cvec_df = pd.DataFrame(body_cvec.todense(), columns=cvec.get_feature_names())\n",
    "# plot top occuring words; top 50\n",
    "plt.figure(figsize=(10,10))\n",
    "body_cvec_df.sum().sort_values(ascending=False).head(50).plot(kind='barh');"
   ]
  },
  {
   "cell_type": "code",
   "execution_count": 17,
   "metadata": {},
   "outputs": [],
   "source": [
    "# add https, com, lol, just, like to custom words list\n",
    "new_words = ['https', 'com', 'lol', 'just', 'like']\n",
    "for word in new_words:\n",
    "    custom_stop_words.append(word)"
   ]
  },
  {
   "cell_type": "code",
   "execution_count": 18,
   "metadata": {},
   "outputs": [],
   "source": [
    "# look at top words for each subreddit\n",
    "sub_filter = df['subreddit'] == 1"
   ]
  },
  {
   "cell_type": "code",
   "execution_count": 19,
   "metadata": {},
   "outputs": [],
   "source": [
    "# create sportsbook cvec \n",
    "sportsbook_cvec = cvec.fit_transform(df[sub_filter]['body'])"
   ]
  },
  {
   "cell_type": "code",
   "execution_count": 20,
   "metadata": {},
   "outputs": [
    {
     "data": {
      "image/png": "[encoded data removed]",
      "text/plain": [
       "<Figure size 432x288 with 1 Axes>"
      ]
     },
     "metadata": {
      "needs_background": "light"
     },
     "output_type": "display_data"
    }
   ],
   "source": [
    "# create dataframe of cvec words\n",
    "sportsbook_cvec_df = pd.DataFrame(sportsbook_cvec.todense(), columns=cvec.get_feature_names())\n",
    "# plot common words\n",
    "sportsbook_cvec_df.sum().sort_values(ascending=False).head(20).plot(kind='barh');"
   ]
  },
  {
   "cell_type": "code",
   "execution_count": 21,
   "metadata": {},
   "outputs": [],
   "source": [
    "# look at top words for each subreddit\n",
    "sub_filter1 = df['subreddit'] == 0"
   ]
  },
  {
   "cell_type": "code",
   "execution_count": 22,
   "metadata": {},
   "outputs": [],
   "source": [
    "# create dfsports cvec \n",
    "dfs_cvec = cvec.fit_transform(df[sub_filter1]['body'])"
   ]
  },
  {
   "cell_type": "code",
   "execution_count": 23,
   "metadata": {},
   "outputs": [
    {
     "data": {
      "image/png": "[encoded data removed]",
      "text/plain": [
       "<Figure size 432x288 with 1 Axes>"
      ]
     },
     "metadata": {
      "needs_background": "light"
     },
     "output_type": "display_data"
    }
   ],
   "source": [
    "# create dataframe of cvec words\n",
    "dfs_cvec_df = pd.DataFrame(dfs_cvec.todense(), columns=cvec.get_feature_names())\n",
    "# plot common words\n",
    "dfs_cvec_df.sum().sort_values(ascending=False).head(20).plot(kind='barh');"
   ]
  },
  {
   "cell_type": "code",
   "execution_count": 24,
   "metadata": {
    "jupyter": {
     "source_hidden": true
    }
   },
   "outputs": [],
   "source": [
    "# create list of top 30 words for each subreddit then check for words in each\n",
    "s = sportsbook_cvec_df.sum()\n",
    "df1 = pd.DataFrame(zip(s,sportsbook_cvec_df.columns))"
   ]
  },
  {
   "cell_type": "code",
   "execution_count": 25,
   "metadata": {
    "jupyter": {
     "source_hidden": true
    }
   },
   "outputs": [],
   "source": [
    "df1.sort_values(by=0, ascending=False, inplace=True)"
   ]
  },
  {
   "cell_type": "code",
   "execution_count": 26,
   "metadata": {
    "collapsed": true,
    "jupyter": {
     "outputs_hidden": true,
     "source_hidden": true
    }
   },
   "outputs": [
    {
     "data": {
      "text/plain": [
       "['game',\n",
       " 'bet',\n",
       " 'win',\n",
       " 'ml',\n",
       " 'good',\n",
       " 'games',\n",
       " 'team',\n",
       " 'vs',\n",
       " 'today',\n",
       " 'think',\n",
       " 'got',\n",
       " 'pick',\n",
       " 'going',\n",
       " 'time',\n",
       " 'don',\n",
       " 'creighton',\n",
       " 'money',\n",
       " '1h',\n",
       " 'really',\n",
       " 'gonzaga',\n",
       " 'michigan',\n",
       " 'picks',\n",
       " 'line',\n",
       " 've',\n",
       " 'odds',\n",
       " 'record',\n",
       " 'half',\n",
       " 'points',\n",
       " 'way',\n",
       " 'houston']"
      ]
     },
     "execution_count": 26,
     "metadata": {},
     "output_type": "execute_result"
    }
   ],
   "source": [
    "df1[1].head(30).tolist()"
   ]
  },
  {
   "cell_type": "code",
   "execution_count": 27,
   "metadata": {},
   "outputs": [],
   "source": [
    "# create function to look at top words in both subreddits\n",
    "def create_list(df):\n",
    "    # sum cvec\n",
    "    s = df.sum()\n",
    "    # zip sums and columns to dataframe\n",
    "    df1 = pd.DataFrame(zip(s,df.columns))\n",
    "    #sort new dataframe\n",
    "    df1.sort_values(by=0, ascending=False, inplace=True)\n",
    "    # return word column as list \n",
    "    return df1[1].head(50).tolist()"
   ]
  },
  {
   "cell_type": "code",
   "execution_count": 28,
   "metadata": {
    "collapsed": true,
    "jupyter": {
     "outputs_hidden": true
    }
   },
   "outputs": [
    {
     "data": {
      "text/plain": [
       "['game',\n",
       " 'bet',\n",
       " 'win',\n",
       " 'ml',\n",
       " 'good',\n",
       " 'games',\n",
       " 'team',\n",
       " 'vs',\n",
       " 'today',\n",
       " 'think',\n",
       " 'got',\n",
       " 'pick',\n",
       " 'going',\n",
       " 'time',\n",
       " 'don',\n",
       " 'creighton',\n",
       " 'money',\n",
       " '1h',\n",
       " 'really',\n",
       " 'gonzaga',\n",
       " 'michigan',\n",
       " 'picks',\n",
       " 'line',\n",
       " 've',\n",
       " 'odds',\n",
       " 'record',\n",
       " 'half',\n",
       " 'points',\n",
       " 'way',\n",
       " 'houston',\n",
       " 'won',\n",
       " 'oregon',\n",
       " 'stipe',\n",
       " 'hit',\n",
       " 'play',\n",
       " 'parlay',\n",
       " 'live',\n",
       " 'right',\n",
       " 'teams',\n",
       " 'let',\n",
       " 'fuck',\n",
       " 'betting',\n",
       " 'make',\n",
       " 'll',\n",
       " 'better',\n",
       " 'day',\n",
       " 'ucla',\n",
       " 'best',\n",
       " 'alabama',\n",
       " 'know']"
      ]
     },
     "execution_count": 28,
     "metadata": {},
     "output_type": "execute_result"
    }
   ],
   "source": [
    "create_list(sportsbook_cvec_df)"
   ]
  },
  {
   "cell_type": "code",
   "execution_count": 29,
   "metadata": {},
   "outputs": [],
   "source": [
    "# create function to find commom words among top 50 words for each subreddit\n",
    "def find_common_words(df1,df2):\n",
    "    list1 = create_list(df1)\n",
    "    list2 = create_list(df2)\n",
    "    common_words_list = []\n",
    "    for word in list1:\n",
    "        if word in list2:\n",
    "            common_words_list.append(word)\n",
    "    return common_words_list"
   ]
  },
  {
   "cell_type": "code",
   "execution_count": 30,
   "metadata": {},
   "outputs": [],
   "source": [
    "common_words_list = find_common_words(sportsbook_cvec_df, dfs_cvec_df)"
   ]
  },
  {
   "cell_type": "code",
   "execution_count": 31,
   "metadata": {
    "collapsed": true,
    "jupyter": {
     "outputs_hidden": true
    }
   },
   "outputs": [
    {
     "data": {
      "text/plain": [
       "['game',\n",
       " 'win',\n",
       " 'good',\n",
       " 'games',\n",
       " 'think',\n",
       " 'got',\n",
       " 'going',\n",
       " 'time',\n",
       " 'don',\n",
       " 'money',\n",
       " 'really',\n",
       " 've',\n",
       " 'points',\n",
       " 'won',\n",
       " 'play',\n",
       " 'right',\n",
       " 'make',\n",
       " 'll',\n",
       " 'best',\n",
       " 'know']"
      ]
     },
     "execution_count": 31,
     "metadata": {},
     "output_type": "execute_result"
    }
   ],
   "source": [
    "common_words_list"
   ]
  },
  {
   "cell_type": "code",
   "execution_count": 32,
   "metadata": {},
   "outputs": [],
   "source": [
    "# add common words to custom stop words list\n",
    "for word in common_words_list:\n",
    "    custom_stop_words.append(word)"
   ]
  },
  {
   "cell_type": "code",
   "execution_count": 33,
   "metadata": {
    "collapsed": true,
    "jupyter": {
     "outputs_hidden": true
    }
   },
   "outputs": [
    {
     "data": {
      "text/plain": [
       "['cant',\n",
       " 'me',\n",
       " 'forty',\n",
       " 'them',\n",
       " 'describe',\n",
       " 'none',\n",
       " 'every',\n",
       " 'anyone',\n",
       " 'down',\n",
       " 'this',\n",
       " 'who',\n",
       " 'whom',\n",
       " 'are',\n",
       " 'nothing',\n",
       " 'twenty',\n",
       " 'whenever',\n",
       " 'seem',\n",
       " 'ever',\n",
       " 'amoungst',\n",
       " 'so',\n",
       " 'some',\n",
       " 'hasnt',\n",
       " 'too',\n",
       " 'hereby',\n",
       " 'sixty',\n",
       " 'her',\n",
       " 'do',\n",
       " 'yet',\n",
       " 'anyway',\n",
       " 'everywhere',\n",
       " 'get',\n",
       " 'next',\n",
       " 'to',\n",
       " 'with',\n",
       " 'made',\n",
       " 'four',\n",
       " 'thereby',\n",
       " 'whither',\n",
       " 'along',\n",
       " 'cry',\n",
       " 'through',\n",
       " 'were',\n",
       " 'well',\n",
       " 'de',\n",
       " 'back',\n",
       " 'within',\n",
       " 'besides',\n",
       " 'same',\n",
       " 'moreover',\n",
       " 'whereby',\n",
       " 'become',\n",
       " 'third',\n",
       " 'of',\n",
       " 'still',\n",
       " 'thereafter',\n",
       " 'they',\n",
       " 'his',\n",
       " 'eg',\n",
       " 'am',\n",
       " 'else',\n",
       " 'whereafter',\n",
       " 'at',\n",
       " 'sometimes',\n",
       " 'keep',\n",
       " 'first',\n",
       " 'only',\n",
       " 'thence',\n",
       " 'is',\n",
       " 'five',\n",
       " 'sincere',\n",
       " 'behind',\n",
       " 'had',\n",
       " 'indeed',\n",
       " 'where',\n",
       " 'whereupon',\n",
       " 'latter',\n",
       " 'has',\n",
       " 'once',\n",
       " 'amount',\n",
       " 'myself',\n",
       " 'somewhere',\n",
       " 'themselves',\n",
       " 'if',\n",
       " 'under',\n",
       " 'meanwhile',\n",
       " 'or',\n",
       " 'among',\n",
       " 'six',\n",
       " 'then',\n",
       " 'what',\n",
       " 'couldnt',\n",
       " 'from',\n",
       " 'enough',\n",
       " 'until',\n",
       " 'such',\n",
       " 'above',\n",
       " 'top',\n",
       " 'eleven',\n",
       " 'nor',\n",
       " 'while',\n",
       " 'should',\n",
       " 'fire',\n",
       " 'though',\n",
       " 'interest',\n",
       " 'beside',\n",
       " 'part',\n",
       " 'yourself',\n",
       " 'becoming',\n",
       " 'any',\n",
       " 'we',\n",
       " 'was',\n",
       " 'as',\n",
       " 'those',\n",
       " 'whatever',\n",
       " 'i',\n",
       " 're',\n",
       " 'already',\n",
       " 'without',\n",
       " 'towards',\n",
       " 'own',\n",
       " 'than',\n",
       " 'although',\n",
       " 'former',\n",
       " 'everyone',\n",
       " 'together',\n",
       " 'us',\n",
       " 'two',\n",
       " 'few',\n",
       " 'whoever',\n",
       " 'when',\n",
       " 'he',\n",
       " 'never',\n",
       " 'there',\n",
       " 'always',\n",
       " 'you',\n",
       " 'several',\n",
       " 'nine',\n",
       " 'thru',\n",
       " 'move',\n",
       " 'between',\n",
       " 'etc',\n",
       " 'perhaps',\n",
       " 'will',\n",
       " 'all',\n",
       " 'your',\n",
       " 'sometime',\n",
       " 'formerly',\n",
       " 'latterly',\n",
       " 'its',\n",
       " 'a',\n",
       " 'also',\n",
       " 'seemed',\n",
       " 'been',\n",
       " 'go',\n",
       " 'therein',\n",
       " 'much',\n",
       " 'many',\n",
       " 'less',\n",
       " 'namely',\n",
       " 'for',\n",
       " 'seems',\n",
       " 'how',\n",
       " 'someone',\n",
       " 'being',\n",
       " 'my',\n",
       " 'their',\n",
       " 'anything',\n",
       " 'be',\n",
       " 'nowhere',\n",
       " 'that',\n",
       " 'on',\n",
       " 'fifteen',\n",
       " 'something',\n",
       " 'thereupon',\n",
       " 'nobody',\n",
       " 'thick',\n",
       " 'put',\n",
       " 'upon',\n",
       " 'herein',\n",
       " 'otherwise',\n",
       " 'may',\n",
       " 'nevertheless',\n",
       " 'ourselves',\n",
       " 'therefore',\n",
       " 'by',\n",
       " 'during',\n",
       " 'hereafter',\n",
       " 'twelve',\n",
       " 'fifty',\n",
       " 'anywhere',\n",
       " 'show',\n",
       " 'and',\n",
       " 'thin',\n",
       " 'beyond',\n",
       " 'often',\n",
       " 'itself',\n",
       " 'take',\n",
       " 'both',\n",
       " 'see',\n",
       " 'wherein',\n",
       " 'against',\n",
       " 'bill',\n",
       " 'off',\n",
       " 'each',\n",
       " 'name',\n",
       " 'either',\n",
       " 'in',\n",
       " 'throughout',\n",
       " 'most',\n",
       " 'neither',\n",
       " 'can',\n",
       " 'con',\n",
       " 'could',\n",
       " 'inc',\n",
       " 'wherever',\n",
       " 'very',\n",
       " 'might',\n",
       " 'via',\n",
       " 'ten',\n",
       " 'cannot',\n",
       " 'it',\n",
       " 'why',\n",
       " 'ie',\n",
       " 'have',\n",
       " 'anyhow',\n",
       " 'three',\n",
       " 'everything',\n",
       " 'the',\n",
       " 'last',\n",
       " 'due',\n",
       " 'noone',\n",
       " 'would',\n",
       " 'ltd',\n",
       " 'serious',\n",
       " 'ours',\n",
       " 'mill',\n",
       " 'elsewhere',\n",
       " 'whence',\n",
       " 'after',\n",
       " 'front',\n",
       " 'yours',\n",
       " 'yourselves',\n",
       " 'beforehand',\n",
       " 'again',\n",
       " 'our',\n",
       " 'bottom',\n",
       " 'call',\n",
       " 'since',\n",
       " 'rather',\n",
       " 'done',\n",
       " 'before',\n",
       " 'seeming',\n",
       " 'himself',\n",
       " 'whole',\n",
       " 'somehow',\n",
       " 'amongst',\n",
       " 'except',\n",
       " 'here',\n",
       " 'detail',\n",
       " 'alone',\n",
       " 'mine',\n",
       " 'system',\n",
       " 'hereupon',\n",
       " 'hence',\n",
       " 'whereas',\n",
       " 'which',\n",
       " 'about',\n",
       " 'but',\n",
       " 'whether',\n",
       " 'onto',\n",
       " 'because',\n",
       " 'herself',\n",
       " 'below',\n",
       " 'thus',\n",
       " 'further',\n",
       " 'over',\n",
       " 'another',\n",
       " 'fill',\n",
       " 'up',\n",
       " 'around',\n",
       " 'however',\n",
       " 'becomes',\n",
       " 'out',\n",
       " 'she',\n",
       " 'more',\n",
       " 'these',\n",
       " 'side',\n",
       " 'no',\n",
       " 'found',\n",
       " 'full',\n",
       " 'not',\n",
       " 'even',\n",
       " 'across',\n",
       " 'toward',\n",
       " 'eight',\n",
       " 'find',\n",
       " 'almost',\n",
       " 'an',\n",
       " 'afterwards',\n",
       " 'other',\n",
       " 'co',\n",
       " 'him',\n",
       " 'into',\n",
       " 'least',\n",
       " 'hers',\n",
       " 'un',\n",
       " 'give',\n",
       " 'mostly',\n",
       " 'must',\n",
       " 'others',\n",
       " 'please',\n",
       " 'one',\n",
       " 'now',\n",
       " 'whose',\n",
       " 'hundred',\n",
       " 'empty',\n",
       " 'became',\n",
       " 'per',\n",
       " 'https',\n",
       " 'com',\n",
       " 'lol',\n",
       " 'just',\n",
       " 'like',\n",
       " 'game',\n",
       " 'win',\n",
       " 'good',\n",
       " 'games',\n",
       " 'think',\n",
       " 'got',\n",
       " 'going',\n",
       " 'time',\n",
       " 'don',\n",
       " 'money',\n",
       " 'really',\n",
       " 've',\n",
       " 'points',\n",
       " 'won',\n",
       " 'play',\n",
       " 'right',\n",
       " 'make',\n",
       " 'll',\n",
       " 'best',\n",
       " 'know']"
      ]
     },
     "execution_count": 33,
     "metadata": {},
     "output_type": "execute_result"
    }
   ],
   "source": [
    "# check output \n",
    "custom_stop_words"
   ]
  },
  {
   "cell_type": "markdown",
   "metadata": {},
   "source": [
    "## Note:\n",
    "By identifing common words list, I add these words to stop words list to try and improve model performance.  Will create custom word list .py file to easily import stop words list for future modeling."
   ]
  },
  {
   "cell_type": "code",
   "execution_count": 44,
   "metadata": {
    "jupyter": {
     "source_hidden": true
    }
   },
   "outputs": [],
   "source": [
    "# nltk\n",
    "import nltk\n",
    "from nltk.stem import WordNetLemmatizer\n",
    "from nltk.tokenize import sent_tokenize, word_tokenize, RegexpTokenizer"
   ]
  },
  {
   "cell_type": "code",
   "execution_count": 48,
   "metadata": {
    "jupyter": {
     "source_hidden": true
    }
   },
   "outputs": [],
   "source": [
    "lemmatizer = WordNetLemmatizer()"
   ]
  },
  {
   "cell_type": "code",
   "execution_count": 49,
   "metadata": {
    "jupyter": {
     "source_hidden": true
    }
   },
   "outputs": [],
   "source": [
    "tokenizer = RegexpTokenizer(r'\\w+')"
   ]
  },
  {
   "cell_type": "code",
   "execution_count": 53,
   "metadata": {
    "collapsed": true,
    "jupyter": {
     "outputs_hidden": true,
     "source_hidden": true
    }
   },
   "outputs": [
    {
     "data": {
      "text/plain": [
       "['fuck', 'it', 'o64', '5', '1H']"
      ]
     },
     "execution_count": 53,
     "metadata": {},
     "output_type": "execute_result"
    }
   ],
   "source": [
    "test = tokenizer.tokenize(df['body'][0])\n",
    "test"
   ]
  },
  {
   "cell_type": "code",
   "execution_count": 54,
   "metadata": {
    "collapsed": true,
    "jupyter": {
     "outputs_hidden": true,
     "source_hidden": true
    }
   },
   "outputs": [
    {
     "data": {
      "text/plain": [
       "['fuck', 'it', 'o64', '5', '1H']"
      ]
     },
     "execution_count": 54,
     "metadata": {},
     "output_type": "execute_result"
    }
   ],
   "source": [
    "[lemmatizer.lemmatize(word) for word in test]"
   ]
  },
  {
   "cell_type": "code",
   "execution_count": 55,
   "metadata": {
    "jupyter": {
     "source_hidden": true
    }
   },
   "outputs": [],
   "source": [
    "def lem(li):\n",
    "    tokenizer = RegexpTokenizer(r'\\w+')\n",
    "    token_list = tokenizer.tokenize(li.lower())\n",
    "    lem_list = [lemmatizer.lemmatize(word) for word in token_list]                          \n",
    "    return lem_list"
   ]
  },
  {
   "cell_type": "code",
   "execution_count": 57,
   "metadata": {
    "jupyter": {
     "source_hidden": true
    }
   },
   "outputs": [],
   "source": [
    "df['body'] = df['body'].map(lem)"
   ]
  },
  {
   "cell_type": "code",
   "execution_count": 58,
   "metadata": {
    "jupyter": {
     "source_hidden": true
    }
   },
   "outputs": [],
   "source": [
    "df['body'] = df['body'].apply(', '.join)"
   ]
  },
  {
   "cell_type": "code",
   "execution_count": 59,
   "metadata": {
    "collapsed": true,
    "jupyter": {
     "outputs_hidden": true,
     "source_hidden": true
    }
   },
   "outputs": [
    {
     "data": {
      "text/html": [
       "<div>\n",
       "<style scoped>\n",
       "    .dataframe tbody tr th:only-of-type {\n",
       "        vertical-align: middle;\n",
       "    }\n",
       "\n",
       "    .dataframe tbody tr th {\n",
       "        vertical-align: top;\n",
       "    }\n",
       "\n",
       "    .dataframe thead th {\n",
       "        text-align: right;\n",
       "    }\n",
       "</style>\n",
       "<table border=\"1\" class=\"dataframe\">\n",
       "  <thead>\n",
       "    <tr style=\"text-align: right;\">\n",
       "      <th></th>\n",
       "      <th>subreddit</th>\n",
       "      <th>body</th>\n",
       "      <th>created_utc</th>\n",
       "      <th>author</th>\n",
       "      <th>submission_title</th>\n",
       "    </tr>\n",
       "  </thead>\n",
       "  <tbody>\n",
       "    <tr>\n",
       "      <th>0</th>\n",
       "      <td>1</td>\n",
       "      <td>fuck, it, o64, 5, 1h</td>\n",
       "      <td>1616963381</td>\n",
       "      <td>dummyacct321</td>\n",
       "      <td>ncaabb_daily_discussion_32821_sunday</td>\n",
       "    </tr>\n",
       "    <tr>\n",
       "      <th>1</th>\n",
       "      <td>1</td>\n",
       "      <td>look, at, this</td>\n",
       "      <td>1616963365</td>\n",
       "      <td>jtcarl</td>\n",
       "      <td>2021_mlb_betting_primer</td>\n",
       "    </tr>\n",
       "    <tr>\n",
       "      <th>2</th>\n",
       "      <td>1</td>\n",
       "      <td>toronto, been, baiting, everyone, all, week, i...</td>\n",
       "      <td>1616963335</td>\n",
       "      <td>hoooesay</td>\n",
       "      <td>nba_daily_discussion_32821_sunday</td>\n",
       "    </tr>\n",
       "    <tr>\n",
       "      <th>3</th>\n",
       "      <td>1</td>\n",
       "      <td>fuck, michigan, but, today, they, make, me, mo...</td>\n",
       "      <td>1616963310</td>\n",
       "      <td>Dont_Carry_it_All</td>\n",
       "      <td>ncaabb_daily_discussion_32821_sunday</td>\n",
       "    </tr>\n",
       "    <tr>\n",
       "      <th>4</th>\n",
       "      <td>1</td>\n",
       "      <td>follow, if, you, feel, like, it</td>\n",
       "      <td>1616963299</td>\n",
       "      <td>Feardamoo</td>\n",
       "      <td>which_is_the_worst_trend_on_sportsbook</td>\n",
       "    </tr>\n",
       "  </tbody>\n",
       "</table>\n",
       "</div>"
      ],
      "text/plain": [
       "   subreddit                                               body  created_utc  \\\n",
       "0          1                               fuck, it, o64, 5, 1h   1616963381   \n",
       "1          1                                     look, at, this   1616963365   \n",
       "2          1  toronto, been, baiting, everyone, all, week, i...   1616963335   \n",
       "3          1  fuck, michigan, but, today, they, make, me, mo...   1616963310   \n",
       "4          1                    follow, if, you, feel, like, it   1616963299   \n",
       "\n",
       "              author                        submission_title  \n",
       "0       dummyacct321    ncaabb_daily_discussion_32821_sunday  \n",
       "1             jtcarl                 2021_mlb_betting_primer  \n",
       "2           hoooesay       nba_daily_discussion_32821_sunday  \n",
       "3  Dont_Carry_it_All    ncaabb_daily_discussion_32821_sunday  \n",
       "4          Feardamoo  which_is_the_worst_trend_on_sportsbook  "
      ]
     },
     "execution_count": 59,
     "metadata": {},
     "output_type": "execute_result"
    }
   ],
   "source": [
    "df.head()"
   ]
  },
  {
   "cell_type": "code",
   "execution_count": 62,
   "metadata": {
    "collapsed": true,
    "jupyter": {
     "outputs_hidden": true,
     "source_hidden": true
    }
   },
   "outputs": [
    {
     "name": "stdout",
     "output_type": "stream",
     "text": [
      "<class 'str'>\n",
      "<class 'str'>\n",
      "<class 'str'>\n",
      "<class 'str'>\n",
      "<class 'str'>\n",
      "<class 'str'>\n",
      "<class 'str'>\n",
      "<class 'str'>\n",
      "<class 'str'>\n",
      "<class 'str'>\n",
      "<class 'str'>\n",
      "<class 'str'>\n",
      "<class 'str'>\n",
      "<class 'str'>\n",
      "<class 'str'>\n",
      "<class 'str'>\n",
      "<class 'str'>\n",
      "<class 'str'>\n",
      "<class 'str'>\n",
      "<class 'str'>\n"
     ]
    }
   ],
   "source": [
    "# check body for numbers\n",
    "for word in df['body'][0]:"
   ]
  },
  {
   "cell_type": "code",
   "execution_count": null,
   "metadata": {
    "jupyter": {
     "source_hidden": true
    }
   },
   "outputs": [],
   "source": []
  },
  {
   "cell_type": "code",
   "execution_count": 36,
   "metadata": {
    "jupyter": {
     "source_hidden": true
    }
   },
   "outputs": [],
   "source": [
    "# next step is to create class for common words list to be able to import in next modeling attempt"
   ]
  },
  {
   "cell_type": "code",
   "execution_count": 37,
   "metadata": {
    "jupyter": {
     "source_hidden": true
    }
   },
   "outputs": [],
   "source": [
    "class Global_stop_words:\n",
    "    def __init__(self, title, ls):\n",
    "        self.title = title\n",
    "        self.ls = ls"
   ]
  },
  {
   "cell_type": "code",
   "execution_count": 38,
   "metadata": {
    "jupyter": {
     "source_hidden": true
    }
   },
   "outputs": [],
   "source": [
    "custom_stop_words = ['from', 'fire', 'amoungst', 'ours', 'mill', 'except', 'whither', 'or', 'each', 'below', \n",
    "                     'myself', 'whereby', 'her', 'seems', 'has', 'herself', 'if', 'hasnt', 'beforehand', 'his', \n",
    "                     'this', 'beside', 'system', 'might', 'many', 'cry', 'someone', 'off', 'yourselves', 'we', \n",
    "                     'four', 'else', 'because', 'something', 'go', 'twelve', 'back', 'done', 'was', 'itself', 'some', \n",
    "                     'becomes', 'against', 'hundred', 'con', 'down', 'him', 'thereby', 'nowhere', 'towards', 'throughout', \n",
    "                     'should', 'me', 'whether', 'five', 'sincere', 'which', 'during', 'part', 'toward', 'them', 'one', 'as', \n",
    "                     'still', 'thereafter', 'couldnt', 'thence', 'side', 'amount', 'may', 'others', 'us', 'nothing', 'are', \n",
    "                     'everyone', 'is', 'amongst', 'another', 'a', 'both', 'i', 'fifteen', 'also', 'whence', 'either', 'than',\n",
    "                     'there', 'always', 'detail', 'into', 'call', 'more', 'un', 'namely', 'twenty', 'up', 'seem', 'anyhow', \n",
    "                     'beyond', 'out', 'how', 'hence', 'before', 'between', 'that', 'sometime', 'seeming', 'already', \n",
    "                     'together', 'please', 'your', 'indeed', 'serious', 'whom', 'somewhere', 'had', 'being', 'de', 'whose', \n",
    "                     'in', 'front', 'whereupon', 'first', 'several', 'through', 'otherwise', 'too', 'within', 'under', \n",
    "                     'therein', 'hers', 'least', 'only', 'forty', 'ever', 'their', 'such', 'however', 'whoever', 'whatever', \n",
    "                     'top', 'thru', 'of', 'meanwhile', 'anyway', 'am', 'enough', 'cannot', 'found', 'give', 'who', 'hereupon',\n",
    "                     'until', 'our', 'about', 'bill', 'but', 'via', 'very', 'thick', 'be', 'somehow', 'anyone', 'nevertheless', \n",
    "                     'could', 'therefore', 'all', 'alone', 'three', 'latter', 'per', 'without', 'everything', 'himself', 'becoming', \n",
    "                     'where', 'by', 'never', 'can', 'along', 'since', 'bottom', 'yours', 'whole', 'now', 'mostly', 'third', 'perhaps',\n",
    "                     'describe', 'have', 'besides', 'empty', 'often', 'less', 'ten', 'across', 'at', 'yet', 'eg', 'eight', 'herein',\n",
    "                     'over', 'thereupon', 'afterwards', 'must', 'etc', 'keep', 'almost', 'then', 'find', 'other', 'every', 'none',\n",
    "                     'among', 'move', 'thin', 'moreover', 'with', 'take', 'anything', 'eleven', 'full', 'it', 'further', 'its', 'thus',\n",
    "                     'last', 'fifty', 'whereafter', 'ltd', 'themselves', 'few', 'those', 'seemed', 'nobody', 'to', 'will', 'after',\n",
    "                     'so', 'six', 'not', 'when', 'latterly', 'sixty', 'nor', 'cant', 'though', 'would', 'were', 'no', 'onto', 'the', \n",
    "                     'ourselves', 'do', 'became', 'he', 'although', 'an', 'made', 'whereas', 'put', 'neither', 'nine', 'well', 'upon', \n",
    "                     're', 'due', 'even', 'my', 'next', 'inc', 'sometimes', 'why', 'again', 'been', 'they', 'anywhere', 'noone', \n",
    "                     'everywhere', 'yourself', 'what', 'formerly', 'while', 'much', 'wherein', 'whenever', 'interest', 'any', 'elsewhere',\n",
    "                     'become', 'on', 'for', 'own', 'these', 'two', 'above', 'see', 'wherever', 'mine', 'name', 'ie', 'former', 'hereby',\n",
    "                     'same', 'and', 'most', 'co', 'around', 'she', 'rather', 'here', 'hereafter', 'show', 'you', 'fill', 'get', 'behind',\n",
    "                     'once', 'https', 'lol', 'just', 'like', 'com', 'game', 'win', 'good', 'games', 'think', 'got', 'going', 'time', 'don', 'money',\n",
    "                     'really', 've', 'points', 'won', 'play', 'right', 'make', 'll', 'best', 'know']"
   ]
  },
  {
   "cell_type": "code",
   "execution_count": 39,
   "metadata": {
    "jupyter": {
     "source_hidden": true
    }
   },
   "outputs": [],
   "source": [
    "test_list = Global_stop_words(title='test_list',ls=custom_stop_words)"
   ]
  },
  {
   "cell_type": "code",
   "execution_count": 40,
   "metadata": {
    "collapsed": true,
    "jupyter": {
     "outputs_hidden": true,
     "source_hidden": true
    }
   },
   "outputs": [
    {
     "data": {
      "text/plain": [
       "['from',\n",
       " 'fire',\n",
       " 'amoungst',\n",
       " 'ours',\n",
       " 'mill',\n",
       " 'except',\n",
       " 'whither',\n",
       " 'or',\n",
       " 'each',\n",
       " 'below',\n",
       " 'myself',\n",
       " 'whereby',\n",
       " 'her',\n",
       " 'seems',\n",
       " 'has',\n",
       " 'herself',\n",
       " 'if',\n",
       " 'hasnt',\n",
       " 'beforehand',\n",
       " 'his',\n",
       " 'this',\n",
       " 'beside',\n",
       " 'system',\n",
       " 'might',\n",
       " 'many',\n",
       " 'cry',\n",
       " 'someone',\n",
       " 'off',\n",
       " 'yourselves',\n",
       " 'we',\n",
       " 'four',\n",
       " 'else',\n",
       " 'because',\n",
       " 'something',\n",
       " 'go',\n",
       " 'twelve',\n",
       " 'back',\n",
       " 'done',\n",
       " 'was',\n",
       " 'itself',\n",
       " 'some',\n",
       " 'becomes',\n",
       " 'against',\n",
       " 'hundred',\n",
       " 'con',\n",
       " 'down',\n",
       " 'him',\n",
       " 'thereby',\n",
       " 'nowhere',\n",
       " 'towards',\n",
       " 'throughout',\n",
       " 'should',\n",
       " 'me',\n",
       " 'whether',\n",
       " 'five',\n",
       " 'sincere',\n",
       " 'which',\n",
       " 'during',\n",
       " 'part',\n",
       " 'toward',\n",
       " 'them',\n",
       " 'one',\n",
       " 'as',\n",
       " 'still',\n",
       " 'thereafter',\n",
       " 'couldnt',\n",
       " 'thence',\n",
       " 'side',\n",
       " 'amount',\n",
       " 'may',\n",
       " 'others',\n",
       " 'us',\n",
       " 'nothing',\n",
       " 'are',\n",
       " 'everyone',\n",
       " 'is',\n",
       " 'amongst',\n",
       " 'another',\n",
       " 'a',\n",
       " 'both',\n",
       " 'i',\n",
       " 'fifteen',\n",
       " 'also',\n",
       " 'whence',\n",
       " 'either',\n",
       " 'than',\n",
       " 'there',\n",
       " 'always',\n",
       " 'detail',\n",
       " 'into',\n",
       " 'call',\n",
       " 'more',\n",
       " 'un',\n",
       " 'namely',\n",
       " 'twenty',\n",
       " 'up',\n",
       " 'seem',\n",
       " 'anyhow',\n",
       " 'beyond',\n",
       " 'out',\n",
       " 'how',\n",
       " 'hence',\n",
       " 'before',\n",
       " 'between',\n",
       " 'that',\n",
       " 'sometime',\n",
       " 'seeming',\n",
       " 'already',\n",
       " 'together',\n",
       " 'please',\n",
       " 'your',\n",
       " 'indeed',\n",
       " 'serious',\n",
       " 'whom',\n",
       " 'somewhere',\n",
       " 'had',\n",
       " 'being',\n",
       " 'de',\n",
       " 'whose',\n",
       " 'in',\n",
       " 'front',\n",
       " 'whereupon',\n",
       " 'first',\n",
       " 'several',\n",
       " 'through',\n",
       " 'otherwise',\n",
       " 'too',\n",
       " 'within',\n",
       " 'under',\n",
       " 'therein',\n",
       " 'hers',\n",
       " 'least',\n",
       " 'only',\n",
       " 'forty',\n",
       " 'ever',\n",
       " 'their',\n",
       " 'such',\n",
       " 'however',\n",
       " 'whoever',\n",
       " 'whatever',\n",
       " 'top',\n",
       " 'thru',\n",
       " 'of',\n",
       " 'meanwhile',\n",
       " 'anyway',\n",
       " 'am',\n",
       " 'enough',\n",
       " 'cannot',\n",
       " 'found',\n",
       " 'give',\n",
       " 'who',\n",
       " 'hereupon',\n",
       " 'until',\n",
       " 'our',\n",
       " 'about',\n",
       " 'bill',\n",
       " 'but',\n",
       " 'via',\n",
       " 'very',\n",
       " 'thick',\n",
       " 'be',\n",
       " 'somehow',\n",
       " 'anyone',\n",
       " 'nevertheless',\n",
       " 'could',\n",
       " 'therefore',\n",
       " 'all',\n",
       " 'alone',\n",
       " 'three',\n",
       " 'latter',\n",
       " 'per',\n",
       " 'without',\n",
       " 'everything',\n",
       " 'himself',\n",
       " 'becoming',\n",
       " 'where',\n",
       " 'by',\n",
       " 'never',\n",
       " 'can',\n",
       " 'along',\n",
       " 'since',\n",
       " 'bottom',\n",
       " 'yours',\n",
       " 'whole',\n",
       " 'now',\n",
       " 'mostly',\n",
       " 'third',\n",
       " 'perhaps',\n",
       " 'describe',\n",
       " 'have',\n",
       " 'besides',\n",
       " 'empty',\n",
       " 'often',\n",
       " 'less',\n",
       " 'ten',\n",
       " 'across',\n",
       " 'at',\n",
       " 'yet',\n",
       " 'eg',\n",
       " 'eight',\n",
       " 'herein',\n",
       " 'over',\n",
       " 'thereupon',\n",
       " 'afterwards',\n",
       " 'must',\n",
       " 'etc',\n",
       " 'keep',\n",
       " 'almost',\n",
       " 'then',\n",
       " 'find',\n",
       " 'other',\n",
       " 'every',\n",
       " 'none',\n",
       " 'among',\n",
       " 'move',\n",
       " 'thin',\n",
       " 'moreover',\n",
       " 'with',\n",
       " 'take',\n",
       " 'anything',\n",
       " 'eleven',\n",
       " 'full',\n",
       " 'it',\n",
       " 'further',\n",
       " 'its',\n",
       " 'thus',\n",
       " 'last',\n",
       " 'fifty',\n",
       " 'whereafter',\n",
       " 'ltd',\n",
       " 'themselves',\n",
       " 'few',\n",
       " 'those',\n",
       " 'seemed',\n",
       " 'nobody',\n",
       " 'to',\n",
       " 'will',\n",
       " 'after',\n",
       " 'so',\n",
       " 'six',\n",
       " 'not',\n",
       " 'when',\n",
       " 'latterly',\n",
       " 'sixty',\n",
       " 'nor',\n",
       " 'cant',\n",
       " 'though',\n",
       " 'would',\n",
       " 'were',\n",
       " 'no',\n",
       " 'onto',\n",
       " 'the',\n",
       " 'ourselves',\n",
       " 'do',\n",
       " 'became',\n",
       " 'he',\n",
       " 'although',\n",
       " 'an',\n",
       " 'made',\n",
       " 'whereas',\n",
       " 'put',\n",
       " 'neither',\n",
       " 'nine',\n",
       " 'well',\n",
       " 'upon',\n",
       " 're',\n",
       " 'due',\n",
       " 'even',\n",
       " 'my',\n",
       " 'next',\n",
       " 'inc',\n",
       " 'sometimes',\n",
       " 'why',\n",
       " 'again',\n",
       " 'been',\n",
       " 'they',\n",
       " 'anywhere',\n",
       " 'noone',\n",
       " 'everywhere',\n",
       " 'yourself',\n",
       " 'what',\n",
       " 'formerly',\n",
       " 'while',\n",
       " 'much',\n",
       " 'wherein',\n",
       " 'whenever',\n",
       " 'interest',\n",
       " 'any',\n",
       " 'elsewhere',\n",
       " 'become',\n",
       " 'on',\n",
       " 'for',\n",
       " 'own',\n",
       " 'these',\n",
       " 'two',\n",
       " 'above',\n",
       " 'see',\n",
       " 'wherever',\n",
       " 'mine',\n",
       " 'name',\n",
       " 'ie',\n",
       " 'former',\n",
       " 'hereby',\n",
       " 'same',\n",
       " 'and',\n",
       " 'most',\n",
       " 'co',\n",
       " 'around',\n",
       " 'she',\n",
       " 'rather',\n",
       " 'here',\n",
       " 'hereafter',\n",
       " 'show',\n",
       " 'you',\n",
       " 'fill',\n",
       " 'get',\n",
       " 'behind',\n",
       " 'once',\n",
       " 'https',\n",
       " 'lol',\n",
       " 'just',\n",
       " 'like',\n",
       " 'com',\n",
       " 'game',\n",
       " 'win',\n",
       " 'good',\n",
       " 'games',\n",
       " 'think',\n",
       " 'got',\n",
       " 'going',\n",
       " 'time',\n",
       " 'don',\n",
       " 'money',\n",
       " 'really',\n",
       " 've',\n",
       " 'points',\n",
       " 'won',\n",
       " 'play',\n",
       " 'right',\n",
       " 'make',\n",
       " 'll',\n",
       " 'best',\n",
       " 'know']"
      ]
     },
     "execution_count": 40,
     "metadata": {},
     "output_type": "execute_result"
    }
   ],
   "source": [
    "test_list.ls"
   ]
  },
  {
   "cell_type": "code",
   "execution_count": null,
   "metadata": {
    "jupyter": {
     "source_hidden": true
    }
   },
   "outputs": [],
   "source": []
  }
 ],
 "metadata": {
  "kernelspec": {
   "display_name": "Python 3",
   "language": "python",
   "name": "python3"
  },
  "language_info": {
   "codemirror_mode": {
    "name": "ipython",
    "version": 3
   },
   "file_extension": ".py",
   "mimetype": "text/x-python",
   "name": "python",
   "nbconvert_exporter": "python",
   "pygments_lexer": "ipython3",
   "version": "3.8.5"
  }
 },
 "nbformat": 4,
 "nbformat_minor": 4
}
